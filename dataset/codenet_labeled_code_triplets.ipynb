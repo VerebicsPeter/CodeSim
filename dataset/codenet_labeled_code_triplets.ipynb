{
 "cells": [
  {
   "cell_type": "code",
   "execution_count": 9,
   "metadata": {},
   "outputs": [],
   "source": [
    "import os\n",
    "import numpy as np\n",
    "import pandas as pd\n",
    "import pprint as pp\n",
    "import random\n",
    "import rapidfuzz\n",
    "# functions for reading data from codenet:\n",
    "import codenet_reader"
   ]
  },
  {
   "cell_type": "code",
   "execution_count": 12,
   "metadata": {},
   "outputs": [],
   "source": [
    "# Functions for processing solutions of a problem\n",
    "\n",
    "\n",
    "def process_pid(pid: str, data_map: dict, do_print=False):\n",
    "    num_python_solutions = len(codenet_reader.python_solutions(pid))\n",
    "    if num_python_solutions <= 5:\n",
    "        return\n",
    "\n",
    "    df = codenet_reader.init_metadata_df(pid)\n",
    "    if df is None:\n",
    "        print(\"ERROR: Problem metadata could not be loaded!\" + f\"\\n(problem ID: {pid})\\n\")\n",
    "        return\n",
    "\n",
    "    df_accepted = df.loc[df[\"status\"] == \"Accepted\"]\n",
    "    # ONLY sample from solutions that are actually wrong\n",
    "    df_rejected = df.loc[df[\"status\"] == \"Wrong Answer\"]\n",
    "\n",
    "    # TODO: use a log file for this otherwise changes get too long!\n",
    "    if do_print:\n",
    "        print(f\"{pid}\", \"-\" * 50)\n",
    "        print(\" accepted:\", df_accepted.shape[0])\n",
    "        print(\" rejected:\", df_rejected.shape[0])\n",
    "\n",
    "    # NOTE: at least 2 rows of both accepted and rejected examples, otherwise triplets can't be formed\n",
    "    if min(df_accepted.shape[0], df_rejected.shape[0]) < 2:\n",
    "        return\n",
    "\n",
    "    half = df_accepted.shape[0] // 2\n",
    "    # all accepted IDs\n",
    "    sr_accepted = df_accepted[\"submission_id\"]\n",
    "    sr_accepted = sr_accepted[: 2 * half]\n",
    "    # all rejected IDs\n",
    "    sr_rejected = df_rejected[\"submission_id\"]\n",
    "\n",
    "    anchors = sr_accepted[:half]\n",
    "    positives = sr_accepted[half:]\n",
    "    negatives = sr_rejected[:half]\n",
    "    \n",
    "    clip_len = min(map(len, [anchors, positives, negatives]))\n",
    "    df_triplets = pd.DataFrame(\n",
    "        {\n",
    "            \"sid_a\": anchors[:clip_len].to_list(),\n",
    "            \"sid_p\": positives[:clip_len].to_list(),\n",
    "            \"sid_n\": negatives[:clip_len].to_list(),\n",
    "        }\n",
    "    )\n",
    "    if do_print:\n",
    "        pp.pp(df_triplets)\n",
    "\n",
    "    def create_triplet(pid, sid_a, sid_p, sid_n):\n",
    "        return {\n",
    "            \"pid\": pid,\n",
    "            \"sid_a\": sid_a,\n",
    "            \"sid_p\": sid_p,\n",
    "            \"sid_n\": sid_n,\n",
    "            \"src_a\": codenet_reader.read_solution_file(pid, sid_a),\n",
    "            \"src_p\": codenet_reader.read_solution_file(pid, sid_p),\n",
    "            \"src_n\": codenet_reader.read_solution_file(pid, sid_n),\n",
    "        }\n",
    "\n",
    "    data_map[pid] = [\n",
    "        create_triplet(pid, row[\"sid_a\"], row[\"sid_p\"], row[\"sid_n\"])\n",
    "        for _, row in df_triplets.iterrows()\n",
    "    ]"
   ]
  },
  {
   "cell_type": "code",
   "execution_count": 15,
   "metadata": {},
   "outputs": [
    {
     "name": "stdout",
     "output_type": "stream",
     "text": [
      "p03200 --------------------------------------------------\n",
      " accepted: 612\n",
      " rejected: 103\n",
      "          sid_a       sid_p       sid_n\n",
      "0    s489804449  s493799177  s646064465\n",
      "1    s275384173  s759216400  s561793959\n",
      "2    s965328448  s032095552  s925737691\n",
      "3    s702231593  s671450990  s214848410\n",
      "4    s866302073  s615595457  s773870702\n",
      "..          ...         ...         ...\n",
      "98   s470837495  s725049793  s000813546\n",
      "99   s046950021  s439737521  s630000223\n",
      "100  s586871935  s073998789  s926955575\n",
      "101  s169020952  s687651008  s533181048\n",
      "102  s683899038  s694184192  s978484329\n",
      "\n",
      "[103 rows x 3 columns]\n"
     ]
    }
   ],
   "source": [
    "process_pid(\"p03200\", {}, do_print=True)"
   ]
  },
  {
   "cell_type": "code",
   "execution_count": 16,
   "metadata": {},
   "outputs": [
    {
     "name": "stdout",
     "output_type": "stream",
     "text": [
      "Starting...\n",
      "Processing 2000 problems.\n",
      "Data gathered...\n",
      "TRIPLETS created... LENGTH: 138145\n",
      "TRIPLETS filtered... LENGTH: 138145\n",
      "DONE\n"
     ]
    }
   ],
   "source": [
    "# Reading data\n",
    "\n",
    "SAMPLE_SIZE = 2000  # Number of problems to sample from\n",
    "\n",
    "_pids = os.listdir(codenet_reader.DATA_PATH)\n",
    "_pids = random.sample(_pids, k=min(SAMPLE_SIZE, len(_pids)))\n",
    "\n",
    "data_map = {}\n",
    "\n",
    "print(\"Starting...\")\n",
    "print(f\"Processing {len(_pids)} problems.\")\n",
    "\n",
    "for _pid in _pids:\n",
    "    process_pid(_pid, data_map=data_map)\n",
    "\n",
    "print(\"Data gathered...\")\n",
    "\n",
    "output = []\n",
    "for pid in data_map:\n",
    "    for data in data_map[pid]:\n",
    "        output.append(\n",
    "            (\n",
    "                pid,\n",
    "                data[\"sid_a\"],\n",
    "                data[\"sid_p\"],\n",
    "                data[\"sid_n\"],\n",
    "                data[\"src_a\"],\n",
    "                data[\"src_p\"],\n",
    "                data[\"src_n\"],\n",
    "            )\n",
    "        )\n",
    "\n",
    "print(f\"TRIPLETS created... LENGTH: {len(output)}\")\n",
    "output = sorted(set(output), key=lambda x: x[0])  # Sort by problem ID\n",
    "print(f\"TRIPLETS filtered... LENGTH: {len(output)}\")\n",
    "print(\"DONE\")\n",
    "\n",
    "columns = [\"pid\", \"sid_a\", \"sid_p\", \"sid_n\", \"src_a\", \"src_p\", \"src_n\"]\n",
    "\n",
    "df_output = pd.DataFrame(output, columns=columns)"
   ]
  },
  {
   "cell_type": "code",
   "execution_count": 17,
   "metadata": {},
   "outputs": [
    {
     "name": "stdout",
     "output_type": "stream",
     "text": [
      "(138102, 7)\n"
     ]
    }
   ],
   "source": [
    "MAX_CHAR_COUNT = 4096\n",
    "# Filter to pairs that have a combined length of less than `MAX_CHAR_COUNT` characters\n",
    "filter = lambda row: min(map(len, [row[\"src_a\"], row[\"src_p\"], row[\"src_n\"]])) < MAX_CHAR_COUNT\n",
    "df_output = df_output[df_output.apply(filter, axis=1)]\n",
    "print(df_output.shape)"
   ]
  },
  {
   "cell_type": "code",
   "execution_count": null,
   "metadata": {},
   "outputs": [],
   "source": [
    "# Calculating rapid fuzz\n",
    "\n",
    "def run_rf(a,b): return rapidfuzz.fuzz.ratio(a,b)\n",
    "\n",
    "df_output['pos_rf_ratio'] = df_output.apply(lambda row: run_rf(row['src_a'], row['src_p']), axis=1)\n",
    "df_output['neg_rf_ratio'] = df_output.apply(lambda row: run_rf(row['src_a'], row['src_n']), axis=1)"
   ]
  },
  {
   "cell_type": "code",
   "execution_count": 19,
   "metadata": {},
   "outputs": [
    {
     "name": "stdout",
     "output_type": "stream",
     "text": [
      "pos rf gt 80%: 5488\n",
      "neg rf gt 80%: 3588\n"
     ]
    }
   ],
   "source": [
    "# Rapid fuzz counts\n",
    "print('pos rf gt 80%:', (df_output['pos_rf_ratio']>80).sum())\n",
    "print('neg rf gt 80%:', (df_output['neg_rf_ratio']>80).sum())"
   ]
  },
  {
   "cell_type": "code",
   "execution_count": 20,
   "metadata": {},
   "outputs": [
    {
     "data": {
      "text/plain": [
       "Text(0.5, 0, 'rf ratio on positive pairs')"
      ]
     },
     "execution_count": 20,
     "metadata": {},
     "output_type": "execute_result"
    },
    {
     "data": {
      "image/png": "[encoded data removed]",
      "text/plain": [
       "<Figure size 1200x500 with 2 Axes>"
      ]
     },
     "metadata": {},
     "output_type": "display_data"
    }
   ],
   "source": [
    "# Rapid fuzz histograms\n",
    "import matplotlib.pyplot as plt\n",
    "res = 32\n",
    "# histogram\n",
    "fig, ax = plt.subplots(nrows=1, ncols=2, figsize=(12, 5))\n",
    "ax[0].hist(df_output['neg_rf_ratio'], bins=res)\n",
    "ax[0].set_xlabel('rf ratio on negative pairs')\n",
    "ax[1].hist(df_output['pos_rf_ratio'], bins=res)\n",
    "ax[1].set_xlabel('rf ratio on positive pairs')"
   ]
  },
  {
   "cell_type": "code",
   "execution_count": 21,
   "metadata": {},
   "outputs": [],
   "source": [
    "NUM_TRIPLETS = 100_000\n",
    "# Filtering and sampling\n",
    "df_output = df_output.sample(NUM_TRIPLETS)"
   ]
  },
  {
   "cell_type": "code",
   "execution_count": 22,
   "metadata": {},
   "outputs": [],
   "source": [
    "# Exporting\n",
    "EXPORTED_FILE_NAME = '100k_triplets.csv'\n",
    "df_output = df_output[columns]\n",
    "df_output.to_csv(EXPORTED_FILE_NAME, index=None)"
   ]
  },
  {
   "cell_type": "code",
   "execution_count": 23,
   "metadata": {},
   "outputs": [
    {
     "name": "stdout",
     "output_type": "stream",
     "text": [
      "Sampled 601 problems.\n"
     ]
    },
    {
     "data": {
      "text/html": [
       "<div>\n",
       "<style scoped>\n",
       "    .dataframe tbody tr th:only-of-type {\n",
       "        vertical-align: middle;\n",
       "    }\n",
       "\n",
       "    .dataframe tbody tr th {\n",
       "        vertical-align: top;\n",
       "    }\n",
       "\n",
       "    .dataframe thead th {\n",
       "        text-align: right;\n",
       "    }\n",
       "</style>\n",
       "<table border=\"1\" class=\"dataframe\">\n",
       "  <thead>\n",
       "    <tr style=\"text-align: right;\">\n",
       "      <th></th>\n",
       "      <th>pid</th>\n",
       "      <th>sid_a</th>\n",
       "      <th>sid_p</th>\n",
       "      <th>sid_n</th>\n",
       "      <th>src_a</th>\n",
       "      <th>src_p</th>\n",
       "      <th>src_n</th>\n",
       "    </tr>\n",
       "  </thead>\n",
       "  <tbody>\n",
       "    <tr>\n",
       "      <th>0</th>\n",
       "      <td>p02761</td>\n",
       "      <td>s339736267</td>\n",
       "      <td>s513463334</td>\n",
       "      <td>s283980794</td>\n",
       "      <td>n,m = map(int,input().split())\\nans = [0]*n\\nf...</td>\n",
       "      <td>def solve(string):\\n    n, m, *sc = map(int, s...</td>\n",
       "      <td>N, M = map(int, input().split())\\nd = {}\\nfor ...</td>\n",
       "    </tr>\n",
       "    <tr>\n",
       "      <th>1</th>\n",
       "      <td>p02817</td>\n",
       "      <td>s274579408</td>\n",
       "      <td>s815715548</td>\n",
       "      <td>s624715198</td>\n",
       "      <td>s, t = input().split()\\nprint(t + s)</td>\n",
       "      <td>i = input().split()\\nS = i[0]\\nT = i[1]\\nprint...</td>\n",
       "      <td>s,t = input().split()\\nprint(s+t)</td>\n",
       "    </tr>\n",
       "    <tr>\n",
       "      <th>2</th>\n",
       "      <td>p02660</td>\n",
       "      <td>s330236290</td>\n",
       "      <td>s087362375</td>\n",
       "      <td>s684007231</td>\n",
       "      <td>def divideprime(n):\\n    ret = []\\n    i = 2\\n...</td>\n",
       "      <td>def factorization(n):\\n    arr = []\\n    temp ...</td>\n",
       "      <td>N=int(input())\\n\\ndef factorization(n):\\n    a...</td>\n",
       "    </tr>\n",
       "    <tr>\n",
       "      <th>3</th>\n",
       "      <td>p03163</td>\n",
       "      <td>s921055666</td>\n",
       "      <td>s964277098</td>\n",
       "      <td>s817281047</td>\n",
       "      <td>import numpy as np\\n\\nn, w = map(int, input()....</td>\n",
       "      <td>N,W = list(map(int,input().split()))\\n\\nw = []...</td>\n",
       "      <td>#4\\nN,W=map(int,input().split())\\nA=[[0]]+[[in...</td>\n",
       "    </tr>\n",
       "    <tr>\n",
       "      <th>4</th>\n",
       "      <td>p03206</td>\n",
       "      <td>s939488138</td>\n",
       "      <td>s337592785</td>\n",
       "      <td>s157645994</td>\n",
       "      <td>d=int(input())\\nprint(\"Christmas \",end=\"\")\\nif...</td>\n",
       "      <td>d=int(input())\\nc='Christmas'\\ne=' Eve'\\nprint...</td>\n",
       "      <td>D = input ()\\nif D == 25:\\n    print \"Christma...</td>\n",
       "    </tr>\n",
       "    <tr>\n",
       "      <th>...</th>\n",
       "      <td>...</td>\n",
       "      <td>...</td>\n",
       "      <td>...</td>\n",
       "      <td>...</td>\n",
       "      <td>...</td>\n",
       "      <td>...</td>\n",
       "      <td>...</td>\n",
       "    </tr>\n",
       "    <tr>\n",
       "      <th>99995</th>\n",
       "      <td>p02574</td>\n",
       "      <td>s141696368</td>\n",
       "      <td>s469778042</td>\n",
       "      <td>s127411190</td>\n",
       "      <td>#!/usr/bin/env python\\nimport math\\n\\nn = int(...</td>\n",
       "      <td>import math\\nfrom functools import reduce\\n\\n\\...</td>\n",
       "      <td>def gcd_all(A):\\n    from math import gcd\\n   ...</td>\n",
       "    </tr>\n",
       "    <tr>\n",
       "      <th>99996</th>\n",
       "      <td>p03284</td>\n",
       "      <td>s008777616</td>\n",
       "      <td>s097946515</td>\n",
       "      <td>s219308355</td>\n",
       "      <td>n,k = map(int,input().split())\\nmn = n//k\\npri...</td>\n",
       "      <td>n,k = map(int,input().split())\\nif n % k == 0:...</td>\n",
       "      <td>a,b=map(int,input().split())\\nprint(int(a%b))</td>\n",
       "    </tr>\n",
       "    <tr>\n",
       "      <th>99997</th>\n",
       "      <td>p02623</td>\n",
       "      <td>s101385408</td>\n",
       "      <td>s269876894</td>\n",
       "      <td>s118190940</td>\n",
       "      <td>n,m,k=map(int,input().split())\\na=list(map(int...</td>\n",
       "      <td>import sys\\nsys.setrecursionlimit(10**8)\\ninpu...</td>\n",
       "      <td>def main():\\n  N, M, K = map(int, input().spli...</td>\n",
       "    </tr>\n",
       "    <tr>\n",
       "      <th>99998</th>\n",
       "      <td>p03607</td>\n",
       "      <td>s455119114</td>\n",
       "      <td>s514947352</td>\n",
       "      <td>s223212725</td>\n",
       "      <td>N = int(input())\\nnums = {}\\nfor i in range(N)...</td>\n",
       "      <td>from collections import Counter\\nn = int(input...</td>\n",
       "      <td>n = int(input())\\nls = []\\n\\nfor i in range(n)...</td>\n",
       "    </tr>\n",
       "    <tr>\n",
       "      <th>99999</th>\n",
       "      <td>p04029</td>\n",
       "      <td>s944725295</td>\n",
       "      <td>s634046798</td>\n",
       "      <td>s186463142</td>\n",
       "      <td>N = input()\\nanswer = int(N)*(int(N)+1)//2\\npr...</td>\n",
       "      <td>n = int(input())\\n\\nans = (n * n + n) // 2\\n\\n...</td>\n",
       "      <td>n = int(input())\\nprint(int(n*(n-1)/2))</td>\n",
       "    </tr>\n",
       "  </tbody>\n",
       "</table>\n",
       "<p>100000 rows × 7 columns</p>\n",
       "</div>"
      ],
      "text/plain": [
       "          pid       sid_a       sid_p       sid_n  \\\n",
       "0      p02761  s339736267  s513463334  s283980794   \n",
       "1      p02817  s274579408  s815715548  s624715198   \n",
       "2      p02660  s330236290  s087362375  s684007231   \n",
       "3      p03163  s921055666  s964277098  s817281047   \n",
       "4      p03206  s939488138  s337592785  s157645994   \n",
       "...       ...         ...         ...         ...   \n",
       "99995  p02574  s141696368  s469778042  s127411190   \n",
       "99996  p03284  s008777616  s097946515  s219308355   \n",
       "99997  p02623  s101385408  s269876894  s118190940   \n",
       "99998  p03607  s455119114  s514947352  s223212725   \n",
       "99999  p04029  s944725295  s634046798  s186463142   \n",
       "\n",
       "                                                   src_a  \\\n",
       "0      n,m = map(int,input().split())\\nans = [0]*n\\nf...   \n",
       "1                   s, t = input().split()\\nprint(t + s)   \n",
       "2      def divideprime(n):\\n    ret = []\\n    i = 2\\n...   \n",
       "3      import numpy as np\\n\\nn, w = map(int, input()....   \n",
       "4      d=int(input())\\nprint(\"Christmas \",end=\"\")\\nif...   \n",
       "...                                                  ...   \n",
       "99995  #!/usr/bin/env python\\nimport math\\n\\nn = int(...   \n",
       "99996  n,k = map(int,input().split())\\nmn = n//k\\npri...   \n",
       "99997  n,m,k=map(int,input().split())\\na=list(map(int...   \n",
       "99998  N = int(input())\\nnums = {}\\nfor i in range(N)...   \n",
       "99999  N = input()\\nanswer = int(N)*(int(N)+1)//2\\npr...   \n",
       "\n",
       "                                                   src_p  \\\n",
       "0      def solve(string):\\n    n, m, *sc = map(int, s...   \n",
       "1      i = input().split()\\nS = i[0]\\nT = i[1]\\nprint...   \n",
       "2      def factorization(n):\\n    arr = []\\n    temp ...   \n",
       "3      N,W = list(map(int,input().split()))\\n\\nw = []...   \n",
       "4      d=int(input())\\nc='Christmas'\\ne=' Eve'\\nprint...   \n",
       "...                                                  ...   \n",
       "99995  import math\\nfrom functools import reduce\\n\\n\\...   \n",
       "99996  n,k = map(int,input().split())\\nif n % k == 0:...   \n",
       "99997  import sys\\nsys.setrecursionlimit(10**8)\\ninpu...   \n",
       "99998  from collections import Counter\\nn = int(input...   \n",
       "99999  n = int(input())\\n\\nans = (n * n + n) // 2\\n\\n...   \n",
       "\n",
       "                                                   src_n  \n",
       "0      N, M = map(int, input().split())\\nd = {}\\nfor ...  \n",
       "1                      s,t = input().split()\\nprint(s+t)  \n",
       "2      N=int(input())\\n\\ndef factorization(n):\\n    a...  \n",
       "3      #4\\nN,W=map(int,input().split())\\nA=[[0]]+[[in...  \n",
       "4      D = input ()\\nif D == 25:\\n    print \"Christma...  \n",
       "...                                                  ...  \n",
       "99995  def gcd_all(A):\\n    from math import gcd\\n   ...  \n",
       "99996      a,b=map(int,input().split())\\nprint(int(a%b))  \n",
       "99997  def main():\\n  N, M, K = map(int, input().spli...  \n",
       "99998  n = int(input())\\nls = []\\n\\nfor i in range(n)...  \n",
       "99999            n = int(input())\\nprint(int(n*(n-1)/2))  \n",
       "\n",
       "[100000 rows x 7 columns]"
      ]
     },
     "execution_count": 23,
     "metadata": {},
     "output_type": "execute_result"
    }
   ],
   "source": [
    "df = pd.read_csv(EXPORTED_FILE_NAME)\n",
    "print(\"Sampled\", len(set(df['pid'])), \"problems.\")\n",
    "df"
   ]
  }
 ],
 "metadata": {
  "kernelspec": {
   "display_name": ".venv",
   "language": "python",
   "name": "python3"
  },
  "language_info": {
   "codemirror_mode": {
    "name": "ipython",
    "version": 3
   },
   "file_extension": ".py",
   "mimetype": "text/x-python",
   "name": "python",
   "nbconvert_exporter": "python",
   "pygments_lexer": "ipython3",
   "version": "3.11.2"
  }
 },
 "nbformat": 4,
 "nbformat_minor": 2
}
