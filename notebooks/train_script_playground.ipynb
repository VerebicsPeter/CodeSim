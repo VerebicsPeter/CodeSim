{
 "cells": [
  {
   "cell_type": "code",
   "execution_count": 1,
   "metadata": {},
   "outputs": [],
   "source": [
    "import os\n",
    "import sys\n",
    "# Get the root directory (parent of 'notebooks/')\n",
    "root_dir = os.path.abspath(os.path.join(os.getcwd(), \"..\"))\n",
    "sys.path.append(root_dir)"
   ]
  },
  {
   "cell_type": "code",
   "execution_count": 2,
   "metadata": {},
   "outputs": [
    {
     "name": "stdout",
     "output_type": "stream",
     "text": [
      "Model 1 output shape: torch.Size([1, 1])\n",
      "Model 2 output shape: torch.Size([1, 768])\n",
      "Model 3 output shape: torch.Size([1, 256])\n",
      "Model 4 output shape: torch.Size([1, 1])\n",
      "Model 1 prediction output: tensor([1], dtype=torch.int32) shaped torch.Size([1])\n",
      "Model 2 prediction output: tensor([1], dtype=torch.int32) shaped torch.Size([1])\n",
      "Model 3 prediction output: tensor([1], dtype=torch.int32) shaped torch.Size([1])\n",
      "Model 4 prediction output: tensor([1], dtype=torch.int32) shaped torch.Size([1])\n"
     ]
    }
   ],
   "source": [
    "from model import train\n",
    "\n",
    "train.test_forward_passes()\n",
    "train.test_predict_passes()"
   ]
  },
  {
   "cell_type": "code",
   "execution_count": 3,
   "metadata": {},
   "outputs": [
    {
     "name": "stderr",
     "output_type": "stream",
     "text": [
      "Downloading...\n",
      "From: https://drive.google.com/uc?export=download&id=1pUErbyZw1fBC5gIe6KT7BWga7h6Bfr4l\n",
      "To: /home/peter/repos/CodeSim/notebooks/dataset.csv\n",
      "100%|██████████| 77.4M/77.4M [00:06<00:00, 11.2MB/s]\n",
      "Token indices sequence length is longer than the specified maximum sequence length for this model (740 > 512). Running this sequence through the model will result in indexing errors\n"
     ]
    },
    {
     "name": "stdout",
     "output_type": "stream",
     "text": [
      "CodeNet data loaded. Data type: paired\n",
      "          pid       sid_1       sid_2  \\\n",
      "0      p02677  s234832019  s655531330   \n",
      "1      p02645  s090771357  s730130061   \n",
      "2      p02707  s692462118  s491685340   \n",
      "3      p03250  s213551843  s362461591   \n",
      "4      p02820  s365411396  s473065485   \n",
      "...       ...         ...         ...   \n",
      "99995  p02747  s546103424  s773912093   \n",
      "99996  p03944  s607238482  s766340564   \n",
      "99997  p02724  s246457803  s393370890   \n",
      "99998  p03074  s011840012  s755408814   \n",
      "99999  p03433  s547188373  s133514121   \n",
      "\n",
      "                                                   src_1  \\\n",
      "0      import math\\n\\na, b, h, m = map(int, input().s...   \n",
      "1                             n = input()\\nprint(n[0:3])   \n",
      "2      n=int(input())\\na=sorted(list(map(int,input()....   \n",
      "3      # -*- coding: utf-8 -*-\\n\\ns = sorted(list(map...   \n",
      "4      N, K = map(int,input().split())\\nR,S,P = map(i...   \n",
      "...                                                  ...   \n",
      "99995  import sys\\n\\ninput = sys.stdin.readline().str...   \n",
      "99996  import sys\\nreadline = sys.stdin.buffer.readli...   \n",
      "99997  import math\\n\\nline = input()\\nmoney = int(lin...   \n",
      "99998  from itertools import accumulate as ac\\n\\nN, K...   \n",
      "99999  N = int(input())\\nA = int(input())\\nif N % 500...   \n",
      "\n",
      "                                                   src_2  label  \n",
      "0      import math\\nA,B,H,M=map(int,input().split())\\...      1  \n",
      "1                            \\ns = input()\\nprint(s[:3])      1  \n",
      "2      n = int(input())\\na = list(map(int, input().sp...      1  \n",
      "3      a,b,c = sorted(map(int,input().split()))\\n\\npr...      1  \n",
      "4      n, k = map(int, input().split())\\ns, p, r = ma...      1  \n",
      "...                                                  ...    ...  \n",
      "99995  import sys\\ns = input()\\nn = 0\\nfor i in range...      0  \n",
      "99996  W, H, n = map(int, input().split())\\n\\none = 0...      0  \n",
      "99997  x = int(input())\\nif x >= 500:\\n  a = int(x/50...      0  \n",
      "99998  n,k = map(int,input().split())\\ns = input()\\nL...      0  \n",
      "99999  N=int(input())\\nA=int(input())\\nif((N-A)%500==...      0  \n",
      "\n",
      "[100000 rows x 6 columns]\n",
      "Filtering dataset, this might take a while...\n",
      "Filtered dataset: (93434, 6)\n",
      "Downsampled dataset: (10, 6)\n",
      "EPOCH 1/4\n"
     ]
    },
    {
     "name": "stderr",
     "output_type": "stream",
     "text": [
      "/home/peter/repos/CodeSim/.venv/lib/python3.11/site-packages/torch/amp/grad_scaler.py:131: UserWarning: torch.cuda.amp.GradScaler is enabled, but CUDA is not available.  Disabling.\n",
      "  warnings.warn(\n"
     ]
    },
    {
     "data": {
      "application/vnd.jupyter.widget-view+json": {
       "model_id": "47ea24eba8304d5f8e2bf5421c0763a0",
       "version_major": 2,
       "version_minor": 0
      },
      "text/plain": [
       "  0%|          | 0/8 [00:00<?, ?it/s]"
      ]
     },
     "metadata": {},
     "output_type": "display_data"
    },
    {
     "name": "stderr",
     "output_type": "stream",
     "text": [
      "/home/peter/repos/CodeSim/.venv/lib/python3.11/site-packages/torch/amp/autocast_mode.py:250: UserWarning: User provided device_type of 'cuda', but CUDA is not available. Disabling\n",
      "  warnings.warn(\n"
     ]
    },
    {
     "name": "stdout",
     "output_type": "stream",
     "text": [
      "Iteration 1/8 complete. Loss: 0.3403369188308716\n",
      "Iteration 2/8 complete. Loss: 0.32855308055877686\n",
      "Iteration 3/8 complete. Loss: 0.3684197962284088\n",
      "Iteration 4/8 complete. Loss: 0.3852461576461792\n",
      "Iteration 5/8 complete. Loss: 0.4334052503108978\n",
      "Iteration 6/8 complete. Loss: 0.3120342791080475\n",
      "Iteration 7/8 complete. Loss: 0.29866111278533936\n",
      "Iteration 8/8 complete. Loss: 0.3905909061431885\n"
     ]
    },
    {
     "data": {
      "application/vnd.jupyter.widget-view+json": {
       "model_id": "c8fcb0a4c57c485aa8e28b3207d969b5",
       "version_major": 2,
       "version_minor": 0
      },
      "text/plain": [
       "  0%|          | 0/2 [00:00<?, ?it/s]"
      ]
     },
     "metadata": {},
     "output_type": "display_data"
    },
    {
     "name": "stdout",
     "output_type": "stream",
     "text": [
      "EPOCH 1/4 complete. AVG loss: 0.3571559377014637, AVG validation loss: 0.6873950958251953\n",
      "Best validation loss improved from inf to 0.6873950958251953.\n",
      "EPOCH 2/4\n"
     ]
    },
    {
     "data": {
      "application/vnd.jupyter.widget-view+json": {
       "model_id": "8920dd296dc64379938dea2c67130c56",
       "version_major": 2,
       "version_minor": 0
      },
      "text/plain": [
       "  0%|          | 0/8 [00:00<?, ?it/s]"
      ]
     },
     "metadata": {},
     "output_type": "display_data"
    },
    {
     "name": "stdout",
     "output_type": "stream",
     "text": [
      "Iteration 1/8 complete. Loss: 0.26321902871131897\n",
      "Iteration 2/8 complete. Loss: 0.3153904378414154\n",
      "Iteration 3/8 complete. Loss: 0.39339637756347656\n",
      "Iteration 4/8 complete. Loss: 0.30772387981414795\n",
      "Iteration 5/8 complete. Loss: 0.28476694226264954\n",
      "Iteration 6/8 complete. Loss: 0.31606346368789673\n",
      "Iteration 7/8 complete. Loss: 0.30044838786125183\n",
      "Iteration 8/8 complete. Loss: 0.2688700556755066\n"
     ]
    },
    {
     "data": {
      "application/vnd.jupyter.widget-view+json": {
       "model_id": "d1dd53c468324c70ac85f13390c4c872",
       "version_major": 2,
       "version_minor": 0
      },
      "text/plain": [
       "  0%|          | 0/2 [00:00<?, ?it/s]"
      ]
     },
     "metadata": {},
     "output_type": "display_data"
    },
    {
     "name": "stdout",
     "output_type": "stream",
     "text": [
      "EPOCH 2/4 complete. AVG loss: 0.30623482167720795, AVG validation loss: 0.6848922073841095\n",
      "Best validation loss improved from 0.6873950958251953 to 0.6848922073841095.\n",
      "EPOCH 3/4\n"
     ]
    },
    {
     "data": {
      "application/vnd.jupyter.widget-view+json": {
       "model_id": "f4add39f281c43e3a494e4cfa9c13c40",
       "version_major": 2,
       "version_minor": 0
      },
      "text/plain": [
       "  0%|          | 0/8 [00:00<?, ?it/s]"
      ]
     },
     "metadata": {},
     "output_type": "display_data"
    },
    {
     "name": "stdout",
     "output_type": "stream",
     "text": [
      "Iteration 1/8 complete. Loss: 0.3090457618236542\n",
      "Iteration 2/8 complete. Loss: 0.2944897413253784\n",
      "Iteration 3/8 complete. Loss: 0.27657926082611084\n",
      "Iteration 4/8 complete. Loss: 0.32505321502685547\n",
      "Iteration 5/8 complete. Loss: 0.30636680126190186\n",
      "Iteration 6/8 complete. Loss: 0.28561896085739136\n",
      "Iteration 7/8 complete. Loss: 0.4304006099700928\n",
      "Iteration 8/8 complete. Loss: 0.3151312470436096\n"
     ]
    },
    {
     "data": {
      "application/vnd.jupyter.widget-view+json": {
       "model_id": "8ff0f9eaf31d476dbe9af6d4bee784cb",
       "version_major": 2,
       "version_minor": 0
      },
      "text/plain": [
       "  0%|          | 0/2 [00:00<?, ?it/s]"
      ]
     },
     "metadata": {},
     "output_type": "display_data"
    },
    {
     "name": "stdout",
     "output_type": "stream",
     "text": [
      "EPOCH 3/4 complete. AVG loss: 0.3178356997668743, AVG validation loss: 0.684398740530014\n",
      "Best validation loss improved from 0.6848922073841095 to 0.684398740530014.\n",
      "EPOCH 4/4\n"
     ]
    },
    {
     "data": {
      "application/vnd.jupyter.widget-view+json": {
       "model_id": "c2a79d5c6a2a40aca9fd05dd38234718",
       "version_major": 2,
       "version_minor": 0
      },
      "text/plain": [
       "  0%|          | 0/8 [00:00<?, ?it/s]"
      ]
     },
     "metadata": {},
     "output_type": "display_data"
    },
    {
     "name": "stdout",
     "output_type": "stream",
     "text": [
      "Iteration 1/8 complete. Loss: 0.3397331237792969\n",
      "Iteration 2/8 complete. Loss: 0.22315454483032227\n",
      "Iteration 3/8 complete. Loss: 0.24351976811885834\n",
      "Iteration 4/8 complete. Loss: 0.3354344069957733\n",
      "Iteration 5/8 complete. Loss: 0.3030531406402588\n",
      "Iteration 6/8 complete. Loss: 0.29181069135665894\n",
      "Iteration 7/8 complete. Loss: 0.2707856297492981\n",
      "Iteration 8/8 complete. Loss: 0.29812806844711304\n"
     ]
    },
    {
     "data": {
      "application/vnd.jupyter.widget-view+json": {
       "model_id": "62e89a72eef54327a74a6ae936d81156",
       "version_major": 2,
       "version_minor": 0
      },
      "text/plain": [
       "  0%|          | 0/2 [00:00<?, ?it/s]"
      ]
     },
     "metadata": {},
     "output_type": "display_data"
    },
    {
     "name": "stdout",
     "output_type": "stream",
     "text": [
      "EPOCH 4/4 complete. AVG loss: 0.28820242173969746, AVG validation loss: 0.683618813753128\n",
      "Best validation loss improved from 0.684398740530014 to 0.683618813753128.\n"
     ]
    },
    {
     "name": "stderr",
     "output_type": "stream",
     "text": [
      "100%|██████████| 1/1 [00:01<00:00,  1.62s/it]"
     ]
    },
    {
     "name": "stdout",
     "output_type": "stream",
     "text": [
      "              precision    recall  f1-score   support\n",
      "\n",
      "           0       0.00      0.00      0.00         1\n",
      "           1       0.50      1.00      0.67         1\n",
      "\n",
      "    accuracy                           0.50         2\n",
      "   macro avg       0.25      0.50      0.33         2\n",
      "weighted avg       0.25      0.50      0.33         2\n",
      "\n"
     ]
    },
    {
     "name": "stderr",
     "output_type": "stream",
     "text": [
      "\n",
      "/home/peter/repos/CodeSim/.venv/lib/python3.11/site-packages/sklearn/metrics/_classification.py:1531: UndefinedMetricWarning: Precision is ill-defined and being set to 0.0 in labels with no predicted samples. Use `zero_division` parameter to control this behavior.\n",
      "  _warn_prf(average, modifier, f\"{metric.capitalize()} is\", len(result))\n",
      "/home/peter/repos/CodeSim/.venv/lib/python3.11/site-packages/sklearn/metrics/_classification.py:1531: UndefinedMetricWarning: Precision is ill-defined and being set to 0.0 in labels with no predicted samples. Use `zero_division` parameter to control this behavior.\n",
      "  _warn_prf(average, modifier, f\"{metric.capitalize()} is\", len(result))\n",
      "/home/peter/repos/CodeSim/.venv/lib/python3.11/site-packages/sklearn/metrics/_classification.py:1531: UndefinedMetricWarning: Precision is ill-defined and being set to 0.0 in labels with no predicted samples. Use `zero_division` parameter to control this behavior.\n",
      "  _warn_prf(average, modifier, f\"{metric.capitalize()} is\", len(result))\n"
     ]
    }
   ],
   "source": [
    "train.train_finetuned(finetuning_strategy=\"sbert_binary_cls\", bs=1, num_rows=10)"
   ]
  },
  {
   "cell_type": "code",
   "execution_count": null,
   "metadata": {},
   "outputs": [],
   "source": [
    "import pandas as pd\n",
    "import matplotlib.pyplot as plt"
   ]
  },
  {
   "cell_type": "code",
   "execution_count": null,
   "metadata": {},
   "outputs": [
    {
     "data": {
      "text/html": [
       "<div>\n",
       "<style scoped>\n",
       "    .dataframe tbody tr th:only-of-type {\n",
       "        vertical-align: middle;\n",
       "    }\n",
       "\n",
       "    .dataframe tbody tr th {\n",
       "        vertical-align: top;\n",
       "    }\n",
       "\n",
       "    .dataframe thead th {\n",
       "        text-align: right;\n",
       "    }\n",
       "</style>\n",
       "<table border=\"1\" class=\"dataframe\">\n",
       "  <thead>\n",
       "    <tr style=\"text-align: right;\">\n",
       "      <th></th>\n",
       "      <th>Unnamed: 0</th>\n",
       "      <th>source</th>\n",
       "      <th>label</th>\n",
       "    </tr>\n",
       "  </thead>\n",
       "  <tbody>\n",
       "    <tr>\n",
       "      <th>0</th>\n",
       "      <td>0</td>\n",
       "      <td>import sys\\nread = sys.stdin.buffer.read\\nread...</td>\n",
       "      <td>p03422-1</td>\n",
       "    </tr>\n",
       "    <tr>\n",
       "      <th>1</th>\n",
       "      <td>1</td>\n",
       "      <td>import sys\\nread = sys.stdin.buffer.read\\nread...</td>\n",
       "      <td>p03422-0</td>\n",
       "    </tr>\n",
       "    <tr>\n",
       "      <th>2</th>\n",
       "      <td>2</td>\n",
       "      <td>N = int(input())\\ng = 0\\nfor _ in range(N):\\n ...</td>\n",
       "      <td>p03422-1</td>\n",
       "    </tr>\n",
       "    <tr>\n",
       "      <th>3</th>\n",
       "      <td>3</td>\n",
       "      <td>N = int(input())\\n\\ndef grundy(x, k):\\n    whi...</td>\n",
       "      <td>p03422-1</td>\n",
       "    </tr>\n",
       "    <tr>\n",
       "      <th>4</th>\n",
       "      <td>4</td>\n",
       "      <td>A,I=0,input\\nfor i in range(int(I())):\\n a,k=m...</td>\n",
       "      <td>p03422-1</td>\n",
       "    </tr>\n",
       "    <tr>\n",
       "      <th>...</th>\n",
       "      <td>...</td>\n",
       "      <td>...</td>\n",
       "      <td>...</td>\n",
       "    </tr>\n",
       "    <tr>\n",
       "      <th>36818</th>\n",
       "      <td>36818</td>\n",
       "      <td>from operator import itemgetter\\n\\n\\nn, x, d =...</td>\n",
       "      <td>p02840-1</td>\n",
       "    </tr>\n",
       "    <tr>\n",
       "      <th>36819</th>\n",
       "      <td>36819</td>\n",
       "      <td>from operator import itemgetter\\n\\n\\nn, x, d =...</td>\n",
       "      <td>p02840-0</td>\n",
       "    </tr>\n",
       "    <tr>\n",
       "      <th>36820</th>\n",
       "      <td>36820</td>\n",
       "      <td>from operator import itemgetter\\n\\n\\nn, x, d =...</td>\n",
       "      <td>p02840-0</td>\n",
       "    </tr>\n",
       "    <tr>\n",
       "      <th>36821</th>\n",
       "      <td>36821</td>\n",
       "      <td>from operator import itemgetter\\n\\n\\nn, x, d =...</td>\n",
       "      <td>p02840-0</td>\n",
       "    </tr>\n",
       "    <tr>\n",
       "      <th>36822</th>\n",
       "      <td>36822</td>\n",
       "      <td>from fractions import gcd\\n\\n# inputa\\nn , x ,...</td>\n",
       "      <td>p02840-1</td>\n",
       "    </tr>\n",
       "  </tbody>\n",
       "</table>\n",
       "<p>36823 rows × 3 columns</p>\n",
       "</div>"
      ],
      "text/plain": [
       "       Unnamed: 0                                             source     label\n",
       "0               0  import sys\\nread = sys.stdin.buffer.read\\nread...  p03422-1\n",
       "1               1  import sys\\nread = sys.stdin.buffer.read\\nread...  p03422-0\n",
       "2               2  N = int(input())\\ng = 0\\nfor _ in range(N):\\n ...  p03422-1\n",
       "3               3  N = int(input())\\n\\ndef grundy(x, k):\\n    whi...  p03422-1\n",
       "4               4  A,I=0,input\\nfor i in range(int(I())):\\n a,k=m...  p03422-1\n",
       "...           ...                                                ...       ...\n",
       "36818       36818  from operator import itemgetter\\n\\n\\nn, x, d =...  p02840-1\n",
       "36819       36819  from operator import itemgetter\\n\\n\\nn, x, d =...  p02840-0\n",
       "36820       36820  from operator import itemgetter\\n\\n\\nn, x, d =...  p02840-0\n",
       "36821       36821  from operator import itemgetter\\n\\n\\nn, x, d =...  p02840-0\n",
       "36822       36822  from fractions import gcd\\n\\n# inputa\\nn , x ,...  p02840-1\n",
       "\n",
       "[36823 rows x 3 columns]"
      ]
     },
     "execution_count": 6,
     "metadata": {},
     "output_type": "execute_result"
    }
   ],
   "source": [
    "dataset_url = train.contrastive_dataset_url_labeled\n",
    "\n",
    "df = pd.read_csv(dataset_url)\n",
    "df"
   ]
  },
  {
   "cell_type": "code",
   "execution_count": null,
   "metadata": {},
   "outputs": [
    {
     "data": {
      "text/html": [
       "<div>\n",
       "<style scoped>\n",
       "    .dataframe tbody tr th:only-of-type {\n",
       "        vertical-align: middle;\n",
       "    }\n",
       "\n",
       "    .dataframe tbody tr th {\n",
       "        vertical-align: top;\n",
       "    }\n",
       "\n",
       "    .dataframe thead th {\n",
       "        text-align: right;\n",
       "    }\n",
       "</style>\n",
       "<table border=\"1\" class=\"dataframe\">\n",
       "  <thead>\n",
       "    <tr style=\"text-align: right;\">\n",
       "      <th></th>\n",
       "      <th>Unnamed: 0</th>\n",
       "      <th>source</th>\n",
       "      <th>label</th>\n",
       "      <th>problem_id</th>\n",
       "      <th>solves</th>\n",
       "    </tr>\n",
       "  </thead>\n",
       "  <tbody>\n",
       "    <tr>\n",
       "      <th>0</th>\n",
       "      <td>0</td>\n",
       "      <td>import sys\\nread = sys.stdin.buffer.read\\nread...</td>\n",
       "      <td>p03422-1</td>\n",
       "      <td>p03422</td>\n",
       "      <td>1</td>\n",
       "    </tr>\n",
       "    <tr>\n",
       "      <th>1</th>\n",
       "      <td>1</td>\n",
       "      <td>import sys\\nread = sys.stdin.buffer.read\\nread...</td>\n",
       "      <td>p03422-0</td>\n",
       "      <td>p03422</td>\n",
       "      <td>0</td>\n",
       "    </tr>\n",
       "    <tr>\n",
       "      <th>2</th>\n",
       "      <td>2</td>\n",
       "      <td>N = int(input())\\ng = 0\\nfor _ in range(N):\\n ...</td>\n",
       "      <td>p03422-1</td>\n",
       "      <td>p03422</td>\n",
       "      <td>1</td>\n",
       "    </tr>\n",
       "    <tr>\n",
       "      <th>3</th>\n",
       "      <td>3</td>\n",
       "      <td>N = int(input())\\n\\ndef grundy(x, k):\\n    whi...</td>\n",
       "      <td>p03422-1</td>\n",
       "      <td>p03422</td>\n",
       "      <td>1</td>\n",
       "    </tr>\n",
       "    <tr>\n",
       "      <th>4</th>\n",
       "      <td>4</td>\n",
       "      <td>A,I=0,input\\nfor i in range(int(I())):\\n a,k=m...</td>\n",
       "      <td>p03422-1</td>\n",
       "      <td>p03422</td>\n",
       "      <td>1</td>\n",
       "    </tr>\n",
       "    <tr>\n",
       "      <th>...</th>\n",
       "      <td>...</td>\n",
       "      <td>...</td>\n",
       "      <td>...</td>\n",
       "      <td>...</td>\n",
       "      <td>...</td>\n",
       "    </tr>\n",
       "    <tr>\n",
       "      <th>36818</th>\n",
       "      <td>36818</td>\n",
       "      <td>from operator import itemgetter\\n\\n\\nn, x, d =...</td>\n",
       "      <td>p02840-1</td>\n",
       "      <td>p02840</td>\n",
       "      <td>1</td>\n",
       "    </tr>\n",
       "    <tr>\n",
       "      <th>36819</th>\n",
       "      <td>36819</td>\n",
       "      <td>from operator import itemgetter\\n\\n\\nn, x, d =...</td>\n",
       "      <td>p02840-0</td>\n",
       "      <td>p02840</td>\n",
       "      <td>0</td>\n",
       "    </tr>\n",
       "    <tr>\n",
       "      <th>36820</th>\n",
       "      <td>36820</td>\n",
       "      <td>from operator import itemgetter\\n\\n\\nn, x, d =...</td>\n",
       "      <td>p02840-0</td>\n",
       "      <td>p02840</td>\n",
       "      <td>0</td>\n",
       "    </tr>\n",
       "    <tr>\n",
       "      <th>36821</th>\n",
       "      <td>36821</td>\n",
       "      <td>from operator import itemgetter\\n\\n\\nn, x, d =...</td>\n",
       "      <td>p02840-0</td>\n",
       "      <td>p02840</td>\n",
       "      <td>0</td>\n",
       "    </tr>\n",
       "    <tr>\n",
       "      <th>36822</th>\n",
       "      <td>36822</td>\n",
       "      <td>from fractions import gcd\\n\\n# inputa\\nn , x ,...</td>\n",
       "      <td>p02840-1</td>\n",
       "      <td>p02840</td>\n",
       "      <td>1</td>\n",
       "    </tr>\n",
       "  </tbody>\n",
       "</table>\n",
       "<p>36823 rows × 5 columns</p>\n",
       "</div>"
      ],
      "text/plain": [
       "       Unnamed: 0                                             source  \\\n",
       "0               0  import sys\\nread = sys.stdin.buffer.read\\nread...   \n",
       "1               1  import sys\\nread = sys.stdin.buffer.read\\nread...   \n",
       "2               2  N = int(input())\\ng = 0\\nfor _ in range(N):\\n ...   \n",
       "3               3  N = int(input())\\n\\ndef grundy(x, k):\\n    whi...   \n",
       "4               4  A,I=0,input\\nfor i in range(int(I())):\\n a,k=m...   \n",
       "...           ...                                                ...   \n",
       "36818       36818  from operator import itemgetter\\n\\n\\nn, x, d =...   \n",
       "36819       36819  from operator import itemgetter\\n\\n\\nn, x, d =...   \n",
       "36820       36820  from operator import itemgetter\\n\\n\\nn, x, d =...   \n",
       "36821       36821  from operator import itemgetter\\n\\n\\nn, x, d =...   \n",
       "36822       36822  from fractions import gcd\\n\\n# inputa\\nn , x ,...   \n",
       "\n",
       "          label problem_id solves  \n",
       "0      p03422-1     p03422      1  \n",
       "1      p03422-0     p03422      0  \n",
       "2      p03422-1     p03422      1  \n",
       "3      p03422-1     p03422      1  \n",
       "4      p03422-1     p03422      1  \n",
       "...         ...        ...    ...  \n",
       "36818  p02840-1     p02840      1  \n",
       "36819  p02840-0     p02840      0  \n",
       "36820  p02840-0     p02840      0  \n",
       "36821  p02840-0     p02840      0  \n",
       "36822  p02840-1     p02840      1  \n",
       "\n",
       "[36823 rows x 5 columns]"
      ]
     },
     "execution_count": 7,
     "metadata": {},
     "output_type": "execute_result"
    }
   ],
   "source": [
    "df[[\"problem_id\", 'solves']] = df[\"label\"].str.split('-', expand=True)\n",
    "df"
   ]
  },
  {
   "cell_type": "code",
   "execution_count": null,
   "metadata": {},
   "outputs": [
    {
     "data": {
      "text/html": [
       "<div>\n",
       "<style scoped>\n",
       "    .dataframe tbody tr th:only-of-type {\n",
       "        vertical-align: middle;\n",
       "    }\n",
       "\n",
       "    .dataframe tbody tr th {\n",
       "        vertical-align: top;\n",
       "    }\n",
       "\n",
       "    .dataframe thead th {\n",
       "        text-align: right;\n",
       "    }\n",
       "</style>\n",
       "<table border=\"1\" class=\"dataframe\">\n",
       "  <thead>\n",
       "    <tr style=\"text-align: right;\">\n",
       "      <th></th>\n",
       "      <th>source</th>\n",
       "      <th>problem_id</th>\n",
       "      <th>solves</th>\n",
       "    </tr>\n",
       "  </thead>\n",
       "  <tbody>\n",
       "    <tr>\n",
       "      <th>0</th>\n",
       "      <td>import sys\\nread = sys.stdin.buffer.read\\nread...</td>\n",
       "      <td>p03422</td>\n",
       "      <td>1</td>\n",
       "    </tr>\n",
       "    <tr>\n",
       "      <th>1</th>\n",
       "      <td>import sys\\nread = sys.stdin.buffer.read\\nread...</td>\n",
       "      <td>p03422</td>\n",
       "      <td>0</td>\n",
       "    </tr>\n",
       "    <tr>\n",
       "      <th>2</th>\n",
       "      <td>N = int(input())\\ng = 0\\nfor _ in range(N):\\n ...</td>\n",
       "      <td>p03422</td>\n",
       "      <td>1</td>\n",
       "    </tr>\n",
       "    <tr>\n",
       "      <th>3</th>\n",
       "      <td>N = int(input())\\n\\ndef grundy(x, k):\\n    whi...</td>\n",
       "      <td>p03422</td>\n",
       "      <td>1</td>\n",
       "    </tr>\n",
       "    <tr>\n",
       "      <th>4</th>\n",
       "      <td>A,I=0,input\\nfor i in range(int(I())):\\n a,k=m...</td>\n",
       "      <td>p03422</td>\n",
       "      <td>1</td>\n",
       "    </tr>\n",
       "    <tr>\n",
       "      <th>...</th>\n",
       "      <td>...</td>\n",
       "      <td>...</td>\n",
       "      <td>...</td>\n",
       "    </tr>\n",
       "    <tr>\n",
       "      <th>36818</th>\n",
       "      <td>from operator import itemgetter\\n\\n\\nn, x, d =...</td>\n",
       "      <td>p02840</td>\n",
       "      <td>1</td>\n",
       "    </tr>\n",
       "    <tr>\n",
       "      <th>36819</th>\n",
       "      <td>from operator import itemgetter\\n\\n\\nn, x, d =...</td>\n",
       "      <td>p02840</td>\n",
       "      <td>0</td>\n",
       "    </tr>\n",
       "    <tr>\n",
       "      <th>36820</th>\n",
       "      <td>from operator import itemgetter\\n\\n\\nn, x, d =...</td>\n",
       "      <td>p02840</td>\n",
       "      <td>0</td>\n",
       "    </tr>\n",
       "    <tr>\n",
       "      <th>36821</th>\n",
       "      <td>from operator import itemgetter\\n\\n\\nn, x, d =...</td>\n",
       "      <td>p02840</td>\n",
       "      <td>0</td>\n",
       "    </tr>\n",
       "    <tr>\n",
       "      <th>36822</th>\n",
       "      <td>from fractions import gcd\\n\\n# inputa\\nn , x ,...</td>\n",
       "      <td>p02840</td>\n",
       "      <td>1</td>\n",
       "    </tr>\n",
       "  </tbody>\n",
       "</table>\n",
       "<p>36823 rows × 3 columns</p>\n",
       "</div>"
      ],
      "text/plain": [
       "                                                  source problem_id solves\n",
       "0      import sys\\nread = sys.stdin.buffer.read\\nread...     p03422      1\n",
       "1      import sys\\nread = sys.stdin.buffer.read\\nread...     p03422      0\n",
       "2      N = int(input())\\ng = 0\\nfor _ in range(N):\\n ...     p03422      1\n",
       "3      N = int(input())\\n\\ndef grundy(x, k):\\n    whi...     p03422      1\n",
       "4      A,I=0,input\\nfor i in range(int(I())):\\n a,k=m...     p03422      1\n",
       "...                                                  ...        ...    ...\n",
       "36818  from operator import itemgetter\\n\\n\\nn, x, d =...     p02840      1\n",
       "36819  from operator import itemgetter\\n\\n\\nn, x, d =...     p02840      0\n",
       "36820  from operator import itemgetter\\n\\n\\nn, x, d =...     p02840      0\n",
       "36821  from operator import itemgetter\\n\\n\\nn, x, d =...     p02840      0\n",
       "36822  from fractions import gcd\\n\\n# inputa\\nn , x ,...     p02840      1\n",
       "\n",
       "[36823 rows x 3 columns]"
      ]
     },
     "execution_count": 8,
     "metadata": {},
     "output_type": "execute_result"
    }
   ],
   "source": [
    "df.drop([\"label\", \"Unnamed: 0\"], axis=1, inplace=True)\n",
    "df"
   ]
  },
  {
   "cell_type": "code",
   "execution_count": null,
   "metadata": {},
   "outputs": [
    {
     "data": {
      "text/html": [
       "<div>\n",
       "<style scoped>\n",
       "    .dataframe tbody tr th:only-of-type {\n",
       "        vertical-align: middle;\n",
       "    }\n",
       "\n",
       "    .dataframe tbody tr th {\n",
       "        vertical-align: top;\n",
       "    }\n",
       "\n",
       "    .dataframe thead th {\n",
       "        text-align: right;\n",
       "    }\n",
       "</style>\n",
       "<table border=\"1\" class=\"dataframe\">\n",
       "  <thead>\n",
       "    <tr style=\"text-align: right;\">\n",
       "      <th>solves</th>\n",
       "      <th>0</th>\n",
       "      <th>1</th>\n",
       "    </tr>\n",
       "    <tr>\n",
       "      <th>problem_id</th>\n",
       "      <th></th>\n",
       "      <th></th>\n",
       "    </tr>\n",
       "  </thead>\n",
       "  <tbody>\n",
       "    <tr>\n",
       "      <th>p00001</th>\n",
       "      <td>0</td>\n",
       "      <td>179</td>\n",
       "    </tr>\n",
       "    <tr>\n",
       "      <th>p00005</th>\n",
       "      <td>0</td>\n",
       "      <td>31</td>\n",
       "    </tr>\n",
       "    <tr>\n",
       "      <th>p00010</th>\n",
       "      <td>0</td>\n",
       "      <td>6</td>\n",
       "    </tr>\n",
       "    <tr>\n",
       "      <th>p00026</th>\n",
       "      <td>0</td>\n",
       "      <td>5</td>\n",
       "    </tr>\n",
       "    <tr>\n",
       "      <th>p00027</th>\n",
       "      <td>0</td>\n",
       "      <td>10</td>\n",
       "    </tr>\n",
       "    <tr>\n",
       "      <th>...</th>\n",
       "      <td>...</td>\n",
       "      <td>...</td>\n",
       "    </tr>\n",
       "    <tr>\n",
       "      <th>p03997</th>\n",
       "      <td>62</td>\n",
       "      <td>188</td>\n",
       "    </tr>\n",
       "    <tr>\n",
       "      <th>p03998</th>\n",
       "      <td>73</td>\n",
       "      <td>177</td>\n",
       "    </tr>\n",
       "    <tr>\n",
       "      <th>p04005</th>\n",
       "      <td>51</td>\n",
       "      <td>199</td>\n",
       "    </tr>\n",
       "    <tr>\n",
       "      <th>p04028</th>\n",
       "      <td>4</td>\n",
       "      <td>15</td>\n",
       "    </tr>\n",
       "    <tr>\n",
       "      <th>p04049</th>\n",
       "      <td>20</td>\n",
       "      <td>17</td>\n",
       "    </tr>\n",
       "  </tbody>\n",
       "</table>\n",
       "<p>228 rows × 2 columns</p>\n",
       "</div>"
      ],
      "text/plain": [
       "solves       0    1\n",
       "problem_id         \n",
       "p00001       0  179\n",
       "p00005       0   31\n",
       "p00010       0    6\n",
       "p00026       0    5\n",
       "p00027       0   10\n",
       "...         ..  ...\n",
       "p03997      62  188\n",
       "p03998      73  177\n",
       "p04005      51  199\n",
       "p04028       4   15\n",
       "p04049      20   17\n",
       "\n",
       "[228 rows x 2 columns]"
      ]
     },
     "execution_count": 9,
     "metadata": {},
     "output_type": "execute_result"
    }
   ],
   "source": [
    "label_counts = df.groupby(['problem_id', 'solves']).size().unstack(fill_value=0)\n",
    "label_counts"
   ]
  },
  {
   "cell_type": "code",
   "execution_count": null,
   "metadata": {},
   "outputs": [
    {
     "data": {
      "image/png": "[encoded data removed]",
      "text/plain": [
       "<Figure size 640x480 with 1 Axes>"
      ]
     },
     "metadata": {},
     "output_type": "display_data"
    }
   ],
   "source": [
    "# Plotting\n",
    "ax = label_counts.plot(kind='bar', stacked=True)\n",
    "ax.set_xticklabels([]) \n",
    "plt.title('Count of labels for each problem id')\n",
    "plt.xlabel('Problem ID')\n",
    "plt.ylabel('Count')\n",
    "plt.xticks(rotation=0)  # To keep the x-axis labels horizontal\n",
    "plt.legend(title='Number', labels=[\"fails\", 'passes'])\n",
    "plt.tight_layout()  # Adjust layout to prevent clipping\n",
    "plt.show()"
   ]
  },
  {
   "cell_type": "code",
   "execution_count": null,
   "metadata": {},
   "outputs": [
    {
     "data": {
      "text/html": [
       "<div>\n",
       "<style scoped>\n",
       "    .dataframe tbody tr th:only-of-type {\n",
       "        vertical-align: middle;\n",
       "    }\n",
       "\n",
       "    .dataframe tbody tr th {\n",
       "        vertical-align: top;\n",
       "    }\n",
       "\n",
       "    .dataframe thead th {\n",
       "        text-align: right;\n",
       "    }\n",
       "</style>\n",
       "<table border=\"1\" class=\"dataframe\">\n",
       "  <thead>\n",
       "    <tr style=\"text-align: right;\">\n",
       "      <th></th>\n",
       "      <th>source</th>\n",
       "      <th>problem_id</th>\n",
       "      <th>solves</th>\n",
       "    </tr>\n",
       "  </thead>\n",
       "  <tbody>\n",
       "    <tr>\n",
       "      <th>0</th>\n",
       "      <td>N, M = map(int, input().split())\\nA = []\\nfor ...</td>\n",
       "      <td>p02536</td>\n",
       "      <td>0</td>\n",
       "    </tr>\n",
       "    <tr>\n",
       "      <th>1</th>\n",
       "      <td>#!/usr/local/bin/python3\\n\\nN, M = map(int, in...</td>\n",
       "      <td>p02536</td>\n",
       "      <td>0</td>\n",
       "    </tr>\n",
       "    <tr>\n",
       "      <th>2</th>\n",
       "      <td>n, m = map(int, input().split())\\n\\nab = []\\nf...</td>\n",
       "      <td>p02536</td>\n",
       "      <td>0</td>\n",
       "    </tr>\n",
       "    <tr>\n",
       "      <th>3</th>\n",
       "      <td>class UnionFind:\\n  par = None\\n  \\n  def __in...</td>\n",
       "      <td>p02536</td>\n",
       "      <td>0</td>\n",
       "    </tr>\n",
       "    <tr>\n",
       "      <th>4</th>\n",
       "      <td>def main():\\n    n,m = map(int,input().split()...</td>\n",
       "      <td>p02536</td>\n",
       "      <td>0</td>\n",
       "    </tr>\n",
       "    <tr>\n",
       "      <th>...</th>\n",
       "      <td>...</td>\n",
       "      <td>...</td>\n",
       "      <td>...</td>\n",
       "    </tr>\n",
       "    <tr>\n",
       "      <th>16971</th>\n",
       "      <td>#!/usr/bin/env python3\\nimport sys\\ninput = sy...</td>\n",
       "      <td>p04049</td>\n",
       "      <td>1</td>\n",
       "    </tr>\n",
       "    <tr>\n",
       "      <th>16972</th>\n",
       "      <td>#!/usr/bin/env python3\\nimport sys\\nsys.setrec...</td>\n",
       "      <td>p04049</td>\n",
       "      <td>1</td>\n",
       "    </tr>\n",
       "    <tr>\n",
       "      <th>16973</th>\n",
       "      <td>#\\n# 　　  ⋀_⋀　 \\n#　　  (･ω･)  \\n# .／ Ｕ ∽ Ｕ＼\\n#  ...</td>\n",
       "      <td>p04049</td>\n",
       "      <td>1</td>\n",
       "    </tr>\n",
       "    <tr>\n",
       "      <th>16974</th>\n",
       "      <td>from collections import deque\\n\\nN, K, *AB = m...</td>\n",
       "      <td>p04049</td>\n",
       "      <td>1</td>\n",
       "    </tr>\n",
       "    <tr>\n",
       "      <th>16975</th>\n",
       "      <td>import sys\\nfrom collections import defaultdic...</td>\n",
       "      <td>p04049</td>\n",
       "      <td>1</td>\n",
       "    </tr>\n",
       "  </tbody>\n",
       "</table>\n",
       "<p>16976 rows × 3 columns</p>\n",
       "</div>"
      ],
      "text/plain": [
       "                                                  source problem_id solves\n",
       "0      N, M = map(int, input().split())\\nA = []\\nfor ...     p02536      0\n",
       "1      #!/usr/local/bin/python3\\n\\nN, M = map(int, in...     p02536      0\n",
       "2      n, m = map(int, input().split())\\n\\nab = []\\nf...     p02536      0\n",
       "3      class UnionFind:\\n  par = None\\n  \\n  def __in...     p02536      0\n",
       "4      def main():\\n    n,m = map(int,input().split()...     p02536      0\n",
       "...                                                  ...        ...    ...\n",
       "16971  #!/usr/bin/env python3\\nimport sys\\ninput = sy...     p04049      1\n",
       "16972  #!/usr/bin/env python3\\nimport sys\\nsys.setrec...     p04049      1\n",
       "16973  #\\n# 　　  ⋀_⋀　 \\n#　　  (･ω･)  \\n# .／ Ｕ ∽ Ｕ＼\\n#  ...     p04049      1\n",
       "16974  from collections import deque\\n\\nN, K, *AB = m...     p04049      1\n",
       "16975  import sys\\nfrom collections import defaultdic...     p04049      1\n",
       "\n",
       "[16976 rows x 3 columns]"
      ]
     },
     "execution_count": 11,
     "metadata": {},
     "output_type": "execute_result"
    }
   ],
   "source": [
    "# Step 1: Create an empty list to store the subsample\n",
    "subsamples = []\n",
    "# Step 2: Iterate over each ID and perform sampling\n",
    "for problem_id, count in label_counts.iterrows():\n",
    "    # Ensure both 0 and 1 exist for this id\n",
    "    if count['0'] <= 0 or count['1'] <= 0: continue\n",
    "    # Take the minimum count of 0 and 1 for this ID\n",
    "    min_count = min(count['0'], count['1'])\n",
    "    # Filter the original dataframe for this id and number (0 and 1)\n",
    "    df_0 = df[(df['problem_id'] == problem_id) & (df['solves'] == '0')].head(min_count)\n",
    "    df_1 = df[(df['problem_id'] == problem_id) & (df['solves'] == '1')].head(min_count)\n",
    "    # Append the subsampled data for this id\n",
    "    subsamples.append(pd.concat([df_0, df_1]))\n",
    "# Step 3: Concatenate all the subsamples into one dataframe\n",
    "subsample_df = pd.concat(subsamples, ignore_index=True)\n",
    "subsample_df"
   ]
  },
  {
   "cell_type": "code",
   "execution_count": null,
   "metadata": {},
   "outputs": [
    {
     "data": {
      "text/html": [
       "<div>\n",
       "<style scoped>\n",
       "    .dataframe tbody tr th:only-of-type {\n",
       "        vertical-align: middle;\n",
       "    }\n",
       "\n",
       "    .dataframe tbody tr th {\n",
       "        vertical-align: top;\n",
       "    }\n",
       "\n",
       "    .dataframe thead th {\n",
       "        text-align: right;\n",
       "    }\n",
       "</style>\n",
       "<table border=\"1\" class=\"dataframe\">\n",
       "  <thead>\n",
       "    <tr style=\"text-align: right;\">\n",
       "      <th>solves</th>\n",
       "      <th>0</th>\n",
       "      <th>1</th>\n",
       "    </tr>\n",
       "    <tr>\n",
       "      <th>problem_id</th>\n",
       "      <th></th>\n",
       "      <th></th>\n",
       "    </tr>\n",
       "  </thead>\n",
       "  <tbody>\n",
       "    <tr>\n",
       "      <th>p02536</th>\n",
       "      <td>121</td>\n",
       "      <td>121</td>\n",
       "    </tr>\n",
       "    <tr>\n",
       "      <th>p02553</th>\n",
       "      <td>53</td>\n",
       "      <td>53</td>\n",
       "    </tr>\n",
       "    <tr>\n",
       "      <th>p02554</th>\n",
       "      <td>70</td>\n",
       "      <td>70</td>\n",
       "    </tr>\n",
       "    <tr>\n",
       "      <th>p02559</th>\n",
       "      <td>20</td>\n",
       "      <td>20</td>\n",
       "    </tr>\n",
       "    <tr>\n",
       "      <th>p02562</th>\n",
       "      <td>18</td>\n",
       "      <td>18</td>\n",
       "    </tr>\n",
       "    <tr>\n",
       "      <th>...</th>\n",
       "      <td>...</td>\n",
       "      <td>...</td>\n",
       "    </tr>\n",
       "    <tr>\n",
       "      <th>p03997</th>\n",
       "      <td>62</td>\n",
       "      <td>62</td>\n",
       "    </tr>\n",
       "    <tr>\n",
       "      <th>p03998</th>\n",
       "      <td>73</td>\n",
       "      <td>73</td>\n",
       "    </tr>\n",
       "    <tr>\n",
       "      <th>p04005</th>\n",
       "      <td>51</td>\n",
       "      <td>51</td>\n",
       "    </tr>\n",
       "    <tr>\n",
       "      <th>p04028</th>\n",
       "      <td>4</td>\n",
       "      <td>4</td>\n",
       "    </tr>\n",
       "    <tr>\n",
       "      <th>p04049</th>\n",
       "      <td>17</td>\n",
       "      <td>17</td>\n",
       "    </tr>\n",
       "  </tbody>\n",
       "</table>\n",
       "<p>169 rows × 2 columns</p>\n",
       "</div>"
      ],
      "text/plain": [
       "solves        0    1\n",
       "problem_id          \n",
       "p02536      121  121\n",
       "p02553       53   53\n",
       "p02554       70   70\n",
       "p02559       20   20\n",
       "p02562       18   18\n",
       "...         ...  ...\n",
       "p03997       62   62\n",
       "p03998       73   73\n",
       "p04005       51   51\n",
       "p04028        4    4\n",
       "p04049       17   17\n",
       "\n",
       "[169 rows x 2 columns]"
      ]
     },
     "execution_count": 12,
     "metadata": {},
     "output_type": "execute_result"
    }
   ],
   "source": [
    "subsample_label_counts = subsample_df.groupby(['problem_id', 'solves']).size().unstack(fill_value=0)\n",
    "subsample_label_counts"
   ]
  },
  {
   "cell_type": "code",
   "execution_count": null,
   "metadata": {},
   "outputs": [],
   "source": [
    "for _, row in subsample_label_counts.iterrows(): assert row['0'] == row['1']"
   ]
  },
  {
   "cell_type": "code",
   "execution_count": null,
   "metadata": {},
   "outputs": [],
   "source": [
    "subsample_df.to_csv(\"codenet_balanced_labeled_subset.csv\")"
   ]
  },
  {
   "cell_type": "markdown",
   "metadata": {},
   "source": [
    "## TODO\n",
    "\n",
    "Implement hard negative mining for contrastive learning."
   ]
  }
 ],
 "metadata": {
  "kernelspec": {
   "display_name": ".venv",
   "language": "python",
   "name": "python3"
  },
  "language_info": {
   "codemirror_mode": {
    "name": "ipython",
    "version": 3
   },
   "file_extension": ".py",
   "mimetype": "text/x-python",
   "name": "python",
   "nbconvert_exporter": "python",
   "pygments_lexer": "ipython3",
   "version": "3.11.2"
  }
 },
 "nbformat": 4,
 "nbformat_minor": 2
}
