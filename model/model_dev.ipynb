{
  "cells": [
    {
      "cell_type": "markdown",
      "metadata": {
        "id": "view-in-github",
        "colab_type": "text"
      },
      "source": [
        "<a href=\"https://colab.research.google.com/github/VerebicsPeter/CodeSim/blob/main/model/model_dev.ipynb\" target=\"_parent\"><img src=\"https://colab.research.google.com/assets/colab-badge.svg\" alt=\"Open In Colab\"/></a>"
      ]
    },
    {
      "cell_type": "markdown",
      "metadata": {
        "id": "N9rC5t03TgEv"
      },
      "source": [
        "# Code Similarity with Contrastive Learning"
      ]
    },
    {
      "cell_type": "markdown",
      "metadata": {
        "id": "nHWMVk9vTgE3"
      },
      "source": [
        "## Dependencies"
      ]
    },
    {
      "cell_type": "code",
      "execution_count": 1,
      "metadata": {
        "colab": {
          "base_uri": "https://localhost:8080/"
        },
        "collapsed": true,
        "id": "fyzd4Diwte7N",
        "outputId": "7bdd5c5e-eebc-4997-c15a-4a57dfbfc4c9"
      },
      "outputs": [
        {
          "output_type": "stream",
          "name": "stdout",
          "text": [
            "Requirement already satisfied: python-minifier in /usr/local/lib/python3.10/dist-packages (2.11.2)\n",
            "Requirement already satisfied: pytorch-metric-learning in /usr/local/lib/python3.10/dist-packages (2.6.0)\n",
            "Requirement already satisfied: numpy<2.0 in /usr/local/lib/python3.10/dist-packages (from pytorch-metric-learning) (1.26.4)\n",
            "Requirement already satisfied: scikit-learn in /usr/local/lib/python3.10/dist-packages (from pytorch-metric-learning) (1.5.2)\n",
            "Requirement already satisfied: torch>=1.6.0 in /usr/local/lib/python3.10/dist-packages (from pytorch-metric-learning) (2.5.0+cu121)\n",
            "Requirement already satisfied: tqdm in /usr/local/lib/python3.10/dist-packages (from pytorch-metric-learning) (4.66.5)\n",
            "Requirement already satisfied: filelock in /usr/local/lib/python3.10/dist-packages (from torch>=1.6.0->pytorch-metric-learning) (3.16.1)\n",
            "Requirement already satisfied: typing-extensions>=4.8.0 in /usr/local/lib/python3.10/dist-packages (from torch>=1.6.0->pytorch-metric-learning) (4.12.2)\n",
            "Requirement already satisfied: networkx in /usr/local/lib/python3.10/dist-packages (from torch>=1.6.0->pytorch-metric-learning) (3.4.2)\n",
            "Requirement already satisfied: jinja2 in /usr/local/lib/python3.10/dist-packages (from torch>=1.6.0->pytorch-metric-learning) (3.1.4)\n",
            "Requirement already satisfied: fsspec in /usr/local/lib/python3.10/dist-packages (from torch>=1.6.0->pytorch-metric-learning) (2024.6.1)\n",
            "Requirement already satisfied: sympy==1.13.1 in /usr/local/lib/python3.10/dist-packages (from torch>=1.6.0->pytorch-metric-learning) (1.13.1)\n",
            "Requirement already satisfied: mpmath<1.4,>=1.1.0 in /usr/local/lib/python3.10/dist-packages (from sympy==1.13.1->torch>=1.6.0->pytorch-metric-learning) (1.3.0)\n",
            "Requirement already satisfied: scipy>=1.6.0 in /usr/local/lib/python3.10/dist-packages (from scikit-learn->pytorch-metric-learning) (1.13.1)\n",
            "Requirement already satisfied: joblib>=1.2.0 in /usr/local/lib/python3.10/dist-packages (from scikit-learn->pytorch-metric-learning) (1.4.2)\n",
            "Requirement already satisfied: threadpoolctl>=3.1.0 in /usr/local/lib/python3.10/dist-packages (from scikit-learn->pytorch-metric-learning) (3.5.0)\n",
            "Requirement already satisfied: MarkupSafe>=2.0 in /usr/local/lib/python3.10/dist-packages (from jinja2->torch>=1.6.0->pytorch-metric-learning) (3.0.2)\n"
          ]
        }
      ],
      "source": [
        "!pip install python-minifier  # for data augmentation\n",
        "!pip install pytorch-metric-learning"
      ]
    },
    {
      "cell_type": "code",
      "execution_count": 2,
      "metadata": {
        "id": "cNViP9VnTgE4"
      },
      "outputs": [],
      "source": [
        "import matplotlib.pyplot as plt\n",
        "#import numpy as np\n",
        "import pandas as pd\n",
        "import pprint as pp\n",
        "# PyTorch\n",
        "import torch\n",
        "import torch.nn as nn\n",
        "import torch.nn.functional as F\n",
        "from torch.utils.data import DataLoader, Dataset, random_split\n",
        "from torch.utils.tensorboard import SummaryWriter\n",
        "from pytorch_metric_learning import losses\n",
        "# Hugging Face Transformers (CodeBERT etc.)\n",
        "import transformers\n",
        "from transformers import AutoTokenizer, AutoModel\n",
        "# Libraries for augmenting data\n",
        "import python_minifier\n",
        "# Libraries for logging\n",
        "from tqdm.auto import tqdm\n",
        "from typing import Iterable"
      ]
    },
    {
      "cell_type": "code",
      "execution_count": 3,
      "metadata": {
        "colab": {
          "base_uri": "https://localhost:8080/"
        },
        "id": "DtfdWw8jTgE7",
        "outputId": "513ae1cc-ac9b-45cf-b3bf-3b5e20626d25"
      },
      "outputs": [
        {
          "output_type": "stream",
          "name": "stdout",
          "text": [
            "Device: cuda\n",
            "Tesla T4\n"
          ]
        }
      ],
      "source": [
        "device = torch.device(\"cuda\" if torch.cuda.is_available() else \"cpu\")\n",
        "print('Device:', device)\n",
        "if torch.cuda.is_available():\n",
        "    print(torch.cuda.get_device_name(torch.cuda.current_device()))"
      ]
    },
    {
      "cell_type": "markdown",
      "metadata": {
        "id": "IsY6hOil070N"
      },
      "source": [
        "## Dataset Access"
      ]
    },
    {
      "cell_type": "code",
      "execution_count": 4,
      "metadata": {
        "id": "YS9pegh1dDj4"
      },
      "outputs": [],
      "source": [
        "from google.colab import userdata\n",
        "labeled_dataset_url = f\"https://drive.google.com/uc?export=download&id={userdata.get('labeledDataset')}\"\n",
        "unlabeled_dataset_url = f\"https://drive.google.com/uc?export=download&id={userdata.get('unlabeledDataset')}\""
      ]
    },
    {
      "cell_type": "markdown",
      "metadata": {
        "id": "uws_FYLpwDr0"
      },
      "source": [
        "## Dataset and Data Augmentation"
      ]
    },
    {
      "cell_type": "code",
      "execution_count": 15,
      "metadata": {
        "id": "boNhtBMiTgFB"
      },
      "outputs": [],
      "source": [
        "# Code datasets (for labeled and unlabeled code snippets)\n",
        "\n",
        "\n",
        "def numeric_labels(labels: Iterable[str]) -> torch.Tensor:\n",
        "    \"\"\"Transform string labels to int labels for the NTXent loss function.\"\"\"\n",
        "    pos_labels = [ label for label in labels if label.endswith('1') ]\n",
        "    labels_map = { label: i for i,label in enumerate(sorted(set(pos_labels))) }\n",
        "    int_labels = [ labels_map.get(label, -1) for label in labels ]\n",
        "    int_labels = torch.Tensor(int_labels)\n",
        "    neg_indices = (int_labels == -1).nonzero(as_tuple=True)[0]\n",
        "    M = max(int_labels)\n",
        "    int_labels[neg_indices] = torch.arange(M + 1, M + 1 + len(neg_indices))\n",
        "    return int_labels\n",
        "\n",
        "\n",
        "def get_batch_encodings(\n",
        "    codes: Iterable[str],\n",
        "    tokenizer: transformers.PreTrainedTokenizer | transformers.PreTrainedTokenizerFast,\n",
        "    device: str = \"cpu\"\n",
        ") -> transformers.BatchEncoding:\n",
        "    MAX_LEN = tokenizer.model_max_length\n",
        "    inputs = tokenizer(\n",
        "        codes,\n",
        "        truncation=True,\n",
        "        # Pad to \"MAX_LEN + 1\" to detect sequences that are too long\n",
        "        padding=\"max_length\", max_length=MAX_LEN + 1,\n",
        "        return_tensors=\"pt\",\n",
        "    )\n",
        "\n",
        "    # Mask sequences that are longer than \"MAX_LEN\"\n",
        "    l_mask = inputs[\"attention_mask\"].sum(dim=1) <= MAX_LEN\n",
        "\n",
        "    inputs = { k: v[l_mask, :MAX_LEN] for k, v in inputs.items() }\n",
        "    # Move tensors to the specified device\n",
        "    inputs = { k: v.to(device) for k, v in inputs.items() }\n",
        "\n",
        "    return inputs\n",
        "\n",
        "\n",
        "class LabeledCodeDataset(Dataset):\n",
        "    def __init__(\n",
        "        self,\n",
        "        tokenizer: transformers.PreTrainedTokenizer | transformers.PreTrainedTokenizerFast,\n",
        "        codes : Iterable[str],\n",
        "        labels: Iterable[str]\n",
        "    ):\n",
        "        assert len(codes) == len(labels)\n",
        "        self.inputs = get_batch_encodings(codes, tokenizer, device)\n",
        "        self.labels = numeric_labels(labels)\n",
        "\n",
        "    def __getitem__(self, idx):\n",
        "        input = {k: v[idx] for k, v in self.inputs.items()}\n",
        "        label = self.labels[idx]\n",
        "        return input, label\n",
        "\n",
        "    def __len__(self):\n",
        "        return self.inputs['input_ids'].shape[0]\n",
        "\n",
        "    @classmethod\n",
        "    def from_csv_data(cls, path: str, tokenizer, sample_size=0):\n",
        "        df = pd.read_csv(path)\n",
        "        print(df.shape)\n",
        "\n",
        "        if sample_size:\n",
        "            print('sampling dataframe...')\n",
        "            df = df.sample(sample_size, ignore_index=True)\n",
        "            print(df.shape)\n",
        "\n",
        "        codes = df['source']\n",
        "        codes = codes.to_list()\n",
        "\n",
        "        labels = df['label']\n",
        "        labels = labels.to_list()\n",
        "\n",
        "        return cls(tokenizer, codes, labels)\n",
        "\n",
        "\n",
        "class UnlabeledCodeDataset(Dataset):\n",
        "    def __init__(\n",
        "        self,\n",
        "        tokenizer: transformers.PreTrainedTokenizer | transformers.PreTrainedTokenizerFast,\n",
        "        ref_codes: Iterable[str],\n",
        "        aug_codes: Iterable[str],\n",
        "    ):\n",
        "        assert len(ref_codes) == len(aug_codes)\n",
        "        self.ref_inputs = get_batch_encodings(ref_codes, tokenizer, device)\n",
        "        self.aug_inputs = get_batch_encodings(aug_codes, tokenizer, device)\n",
        "\n",
        "    def __getitem__(self, idx):\n",
        "        # Return both reference and augmented code inputs for a given index\n",
        "        ref_input = {k: v[idx] for k, v in self.ref_inputs.items()}\n",
        "        aug_input = {k: v[idx] for k, v in self.aug_inputs.items()}\n",
        "        return ref_input, aug_input\n",
        "\n",
        "    def __len__(self):\n",
        "        return self.ref_inputs[\"input_ids\"].shape[0]\n",
        "\n",
        "    @classmethod\n",
        "    def from_csv_data(cls, path: str, tokenizer, aug_func, sample_size=0):\n",
        "        df = pd.read_csv(path)\n",
        "        print(df.shape)\n",
        "\n",
        "        if sample_size:\n",
        "            print('sampling dataframe...')\n",
        "            df = df.sample(sample_size, ignore_index=True)\n",
        "            print(df.shape)\n",
        "\n",
        "        ref_codes = df['file_content']\n",
        "        aug_codes = df['file_content'].apply(aug_func)\n",
        "\n",
        "        return cls(tokenizer, ref_codes.to_list(), aug_codes.to_list())"
      ]
    },
    {
      "cell_type": "code",
      "execution_count": 6,
      "metadata": {
        "id": "2V9lNe8lEcV4"
      },
      "outputs": [],
      "source": [
        "def minify(code: str) -> str:\n",
        "    try: return python_minifier.minify(code)\n",
        "    except Exception as error:\n",
        "        #print(f'Error while minifying: {error}')  # TODO: use a log file for this\n",
        "        pass\n",
        "    return code"
      ]
    },
    {
      "cell_type": "markdown",
      "metadata": {
        "id": "q0yWCEhrTgE-"
      },
      "source": [
        "## Model"
      ]
    },
    {
      "cell_type": "code",
      "execution_count": 7,
      "metadata": {
        "id": "I66sH2KATgE_"
      },
      "outputs": [],
      "source": [
        "# Model\n",
        "\n",
        "IS_SELF_SUPERVISED = False\n",
        "\n",
        "\n",
        "def embedding_pipeline(transformer):\n",
        "    \"\"\"Create an embedding function with a `tokenizer` and `transformer`.\"\"\"\n",
        "    def pipeline(inputs: transformers.BatchEncoding):\n",
        "        with torch.device(device):\n",
        "            return transformer(**inputs)\n",
        "    return pipeline\n",
        "\n",
        "\n",
        "class CodeSimilarityModel(nn.Module):\n",
        "    def __init__(self,\n",
        "        embedding_pipeline,\n",
        "        in_feat=768,  # depends on the embedding pipeline\n",
        "        mlp_sizes=(256, 128),\n",
        "        out_feat=32,\n",
        "        dropout_rate=0.2,\n",
        "    ):\n",
        "        super().__init__()\n",
        "        self.embedding_pipeline = embedding_pipeline\n",
        "        self.in_feat = in_feat\n",
        "        # Non linearity\n",
        "        self.relu = nn.ReLU()\n",
        "        self.drop = nn.Dropout(dropout_rate)\n",
        "        # MLP 'projection head'\n",
        "        mlp_layers = []\n",
        "        mlp_layers.append(nn.Linear(in_feat, mlp_sizes[0]))\n",
        "\n",
        "        mlp_layers.extend([self.relu, self.drop])\n",
        "        mlp_layers.append(nn.Linear(mlp_sizes[0], mlp_sizes[1]))\n",
        "\n",
        "        mlp_layers.extend([self.relu, self.drop])\n",
        "        mlp_layers.append(nn.Linear(mlp_sizes[1], out_feat))\n",
        "\n",
        "        self.mlp = nn.Sequential(*mlp_layers)\n",
        "\n",
        "\n",
        "    def embed(self, inputs: transformers.BatchEncoding) -> torch.Tensor:\n",
        "        output = self.embedding_pipeline(inputs)\n",
        "        return output.pooler_output\n",
        "\n",
        "    def forward(self, x: torch.Tensor) -> torch.Tensor:\n",
        "        with torch.device(device):\n",
        "            # pass through linear layers\n",
        "            x = self.mlp(x)\n",
        "            return x"
      ]
    },
    {
      "cell_type": "markdown",
      "metadata": {
        "id": "-2fugQParBXm"
      },
      "source": [
        "## NTXent Loss Function"
      ]
    },
    {
      "cell_type": "code",
      "execution_count": 8,
      "metadata": {
        "id": "86CxjYpjrAEw"
      },
      "outputs": [],
      "source": [
        "ntxent_loss = losses.NTXentLoss(temperature=0.5)\n",
        "# Wrap the NTXent loss function if needed\n",
        "ntxent_loss = losses.SelfSupervisedLoss(ntxent_loss) if IS_SELF_SUPERVISED else ntxent_loss"
      ]
    },
    {
      "cell_type": "markdown",
      "metadata": {
        "id": "kCRPRlQav58Y"
      },
      "source": [
        "## Training Loop"
      ]
    },
    {
      "cell_type": "code",
      "execution_count": 9,
      "metadata": {
        "id": "enULAgCJTgFC"
      },
      "outputs": [],
      "source": [
        "# Training loop for the NTXEnt loss function\n",
        "\n",
        "def compute_loss(batched_data, model, loss_func):\n",
        "    \"\"\"Computes the loss value for a batch of data.\"\"\"\n",
        "    if isinstance(loss_func, losses.SelfSupervisedLoss):\n",
        "        ref_input, aug_input = batched_data\n",
        "        ref_emb = model.embed(ref_input)  # transformer\n",
        "        aug_emb = model.embed(aug_input)  # transformer\n",
        "        ref_emb = model(ref_emb)  # MLP\n",
        "        aug_emb = model(aug_emb)  # MLP\n",
        "        loss = loss_func(ref_emb, aug_emb)\n",
        "        return loss\n",
        "    else:\n",
        "        inputs, labels = batched_data\n",
        "        embeddings = model.embed(inputs)  # transformer\n",
        "        embeddings = model(embeddings)  # MLP\n",
        "        loss = loss_func(embeddings, labels)\n",
        "        return loss\n",
        "\n",
        "\n",
        "def train_epoch(\n",
        "    model: CodeSimilarityModel,\n",
        "    loader: DataLoader,\n",
        "    loss_func,\n",
        "    optimizer,\n",
        "    epochs: int = 0,  # number of epochs so far (for logging)\n",
        "    writer: SummaryWriter | None = None,  # for logging loss values\n",
        "):\n",
        "    \"\"\"Trains the model for one epoch.\"\"\"\n",
        "\n",
        "    def get_last_loss(n_batches, c_batches, batch, acc_loss):\n",
        "        if batch % c_batches == c_batches - 1:\n",
        "            return 0, acc_loss / c_batches\n",
        "        elif batch == N_BATCHES - 1:\n",
        "            return 0, acc_loss / (n_batches % c_batches)\n",
        "        return acc_loss, 0\n",
        "\n",
        "    def write_loss(writer, n_batches, batch, last_loss):\n",
        "        # Log the average loss over the last  batches\n",
        "        # TODO: use a log file for this\n",
        "        print('',f'Batch: {batch + 1}/{n_batches}, Loss: {last_loss}')\n",
        "        if writer is not None:\n",
        "            writer.add_scalar(\"loss/train\", last_loss, epochs * n_batches + batch + 1)\n",
        "\n",
        "    model.train()  # Set the model to training mode\n",
        "    N_BATCHES = len(loader)  # Number of batches\n",
        "    C_BATCHES = 50  # Number of batches over which the logged loss is cumulated\n",
        "    sum_loss = 0  # Loss accumulated per EPOCH\n",
        "    acc_loss = 0  # Loss accumulated per last 25 batches\n",
        "    progress_bar = tqdm(range(N_BATCHES))\n",
        "    for i, data in enumerate(loader):\n",
        "        optimizer.zero_grad()\n",
        "        loss = compute_loss(data, model, loss_func)\n",
        "        # Adjust the weights\n",
        "        loss.backward()\n",
        "        optimizer.step()\n",
        "        # Increase loss accumulator\n",
        "        loss_val = loss.item()\n",
        "        acc_loss += loss_val; sum_loss += loss_val\n",
        "        # Update the loss accumulator and log the last loss\n",
        "        progress_bar.update(1)\n",
        "        acc_loss, last_loss = get_last_loss(N_BATCHES, C_BATCHES, i, acc_loss)\n",
        "        if last_loss: write_loss(writer, N_BATCHES, i, last_loss)\n",
        "    # Return the average loss in the epoch\n",
        "    avg_loss = sum_loss / N_BATCHES\n",
        "    return avg_loss\n",
        "\n",
        "\n",
        "def validate(\n",
        "    model: CodeSimilarityModel,\n",
        "    loader: DataLoader,\n",
        "    loss_func,\n",
        "):\n",
        "    \"\"\"Validates the model for one epoch.\"\"\"\n",
        "    model.eval()  # Set the model to evaluation mode\n",
        "    with torch.no_grad():\n",
        "        sum_loss = 0\n",
        "        for data in loader:\n",
        "            loss = compute_loss(data, model, loss_func)\n",
        "            sum_loss += loss.item()\n",
        "        avg_loss = sum_loss / len(loader)\n",
        "        return avg_loss\n",
        "\n",
        "\n",
        "def train(\n",
        "    model: CodeSimilarityModel,\n",
        "    dataloaders,\n",
        "    loss_func,\n",
        "    optimizer,\n",
        "    scheduler,\n",
        "    epochs: int = 5,\n",
        "):\n",
        "    writer = None #SummaryWriter()\n",
        "    tLosses, vLosses = [], []\n",
        "    training_loader, validation_loader = dataloaders\n",
        "    for epoch in range(epochs):\n",
        "        print(f'EPOCH {epoch + 1}/{epochs}')\n",
        "        # Train then validate\n",
        "        avg_tLoss = train_epoch(model, training_loader, loss_func, optimizer, epoch, writer)\n",
        "        avg_vLoss = validate(model, validation_loader, loss_func)\n",
        "        # Adjust the LR scheduler\n",
        "        if scheduler is not None:\n",
        "            scheduler.step()\n",
        "        # Log the losses\n",
        "        print(f\"EPOCH {epoch + 1}/{epochs}, AVG loss: {avg_tLoss}, AVG validation loss: {avg_vLoss}\")\n",
        "        tLosses.append(avg_tLoss)\n",
        "        vLosses.append(avg_vLoss)\n",
        "    if writer is not None:\n",
        "        writer.close()\n",
        "    return tLosses, vLosses"
      ]
    },
    {
      "cell_type": "markdown",
      "metadata": {
        "id": "GKM-qZioAFZT"
      },
      "source": [
        "## Training"
      ]
    },
    {
      "cell_type": "code",
      "execution_count": 10,
      "metadata": {
        "id": "VPQaG_0JAFZT",
        "outputId": "9435428f-dbf6-43ac-f4d6-8c133febb082",
        "colab": {
          "base_uri": "https://localhost:8080/"
        }
      },
      "outputs": [
        {
          "output_type": "stream",
          "name": "stderr",
          "text": [
            "/usr/local/lib/python3.10/dist-packages/huggingface_hub/utils/_token.py:89: UserWarning: \n",
            "The secret `HF_TOKEN` does not exist in your Colab secrets.\n",
            "To authenticate with the Hugging Face Hub, create a token in your settings tab (https://huggingface.co/settings/tokens), set it as secret in your Google Colab and restart your session.\n",
            "You will be able to reuse this secret in all of your notebooks.\n",
            "Please note that authentication is recommended but still optional to access public models or datasets.\n",
            "  warnings.warn(\n",
            "/usr/local/lib/python3.10/dist-packages/transformers/tokenization_utils_base.py:1601: FutureWarning: `clean_up_tokenization_spaces` was not set. It will be set to `True` by default. This behavior will be depracted in transformers v4.45, and will be then set to `False` by default. For more details check this issue: https://github.com/huggingface/transformers/issues/31884\n",
            "  warnings.warn(\n"
          ]
        }
      ],
      "source": [
        "PRETRAINED_MODEL=\"neulab/codebert-python\"\n",
        "\"\"\"\n",
        "Other models:\n",
        " \"microsoft/codebert-base\"\n",
        " \"huggingface/CodeBERTa-small-v1\"\n",
        "\"\"\"\n",
        "\n",
        "# Tokenizer is created first for preprocessing\n",
        "tokenizer = AutoTokenizer.from_pretrained(PRETRAINED_MODEL)"
      ]
    },
    {
      "cell_type": "code",
      "execution_count": 16,
      "metadata": {
        "colab": {
          "base_uri": "https://localhost:8080/"
        },
        "id": "nOWTBhaXqOMt",
        "outputId": "74db4f30-6c8d-4b42-9a2d-4cc902aaeaf6"
      },
      "outputs": [
        {
          "output_type": "stream",
          "name": "stdout",
          "text": [
            "(34806, 3)\n",
            "sampling dataframe...\n",
            "(25000, 3)\n"
          ]
        }
      ],
      "source": [
        "# Create the dataset\n",
        "\n",
        "SAMPLE_SIZE = 25_000\n",
        "\n",
        "if IS_SELF_SUPERVISED:\n",
        "    dataset = UnlabeledCodeDataset.from_csv_data(\n",
        "        path=unlabeled_dataset_url,\n",
        "        tokenizer=tokenizer,\n",
        "        sample_size=SAMPLE_SIZE,\n",
        "        aug_func=minify\n",
        "    )\n",
        "else:\n",
        "    dataset = LabeledCodeDataset.from_csv_data(\n",
        "        path=labeled_dataset_url,\n",
        "        tokenizer=tokenizer,\n",
        "        sample_size=SAMPLE_SIZE\n",
        "    )"
      ]
    },
    {
      "cell_type": "code",
      "source": [
        "len(dataset)"
      ],
      "metadata": {
        "id": "bd03DIs2Khr-",
        "outputId": "29b14604-1f9a-4b08-9388-584e41666fb6",
        "colab": {
          "base_uri": "https://localhost:8080/"
        }
      },
      "execution_count": 17,
      "outputs": [
        {
          "output_type": "execute_result",
          "data": {
            "text/plain": [
              "21631"
            ]
          },
          "metadata": {},
          "execution_count": 17
        }
      ]
    },
    {
      "cell_type": "code",
      "execution_count": 18,
      "metadata": {
        "id": "pVma52Qn-5Zl"
      },
      "outputs": [],
      "source": [
        "# Split the data\n",
        "tsize = int(0.8 * len(dataset))\n",
        "vsize = len(dataset) - tsize\n",
        "training_data, validation_data = random_split(dataset, [tsize, vsize])"
      ]
    },
    {
      "cell_type": "code",
      "execution_count": 19,
      "metadata": {
        "collapsed": true,
        "id": "MuquE1Hf-01p"
      },
      "outputs": [],
      "source": [
        "# Create the data loaders\n",
        "\n",
        "# NOTE: Bigger batch size generally leads to better results in contrastive learning\n",
        "BATCH_SIZE = 12\n",
        "SHUFFLE = True\n",
        "\n",
        "training_loader = DataLoader(training_data, batch_size=BATCH_SIZE, shuffle=SHUFFLE)\n",
        "validation_loader = DataLoader(validation_data, batch_size=BATCH_SIZE, shuffle=SHUFFLE)"
      ]
    },
    {
      "cell_type": "code",
      "execution_count": 20,
      "metadata": {
        "id": "RmsA8R0JTgFD",
        "outputId": "9e25a9d0-3966-4e67-c022-5f5896fc4967",
        "colab": {
          "base_uri": "https://localhost:8080/"
        }
      },
      "outputs": [
        {
          "output_type": "stream",
          "name": "stderr",
          "text": [
            "Some weights of RobertaModel were not initialized from the model checkpoint at neulab/codebert-python and are newly initialized: ['roberta.pooler.dense.bias', 'roberta.pooler.dense.weight']\n",
            "You should probably TRAIN this model on a down-stream task to be able to use it for predictions and inference.\n"
          ]
        }
      ],
      "source": [
        "# Create embedding pipeline, model, optimizer and scheduler\n",
        "\n",
        "transformer = AutoModel.from_pretrained(PRETRAINED_MODEL).to(device)\n",
        "transformer.eval()\n",
        "\n",
        "emb_pipeline = embedding_pipeline(transformer)\n",
        "\n",
        "model = CodeSimilarityModel(emb_pipeline).to(device)\n",
        "m_optimizer = torch.optim.Adam(model.parameters(), lr=1e-5, weight_decay=1e-5)\n",
        "m_scheduler = torch.optim.lr_scheduler.StepLR(m_optimizer, step_size=4, gamma=0.1)"
      ]
    },
    {
      "cell_type": "code",
      "execution_count": 21,
      "metadata": {
        "id": "fhBywFg2_42t",
        "outputId": "fd4b5e09-d510-48cf-de37-cb9c3607e68d",
        "colab": {
          "base_uri": "https://localhost:8080/",
          "height": 1000,
          "referenced_widgets": [
            "6f5f98cc5ed94a03b43cc11fc204b8f8",
            "bba12233ae0046e083a672d1e31d0821",
            "3cdf31a9f06a4bc6a5884e22111c7292",
            "7186e48383734aba86938139a00bab79",
            "1ce76c0297ac42cb8274f21f5b50debf",
            "0cabb2d38c5945e396989d245d27a2e7",
            "1bdabf7431774e4d9f1f4dd1c434f98a",
            "0850847ef11a4c28a4ba14c00167479d",
            "c65e6904946048f1978f28515fd4935f",
            "b853be393039415a81ffdcdcff09db76",
            "cf17ca782d7043bb8f0428b6c83872b3",
            "b9cc03788a3a43d0acd8e504e6f7193d",
            "2bebc8017c7b4165b4d4b9d49322ac65",
            "848ddde161a047779266d0d4ae728247",
            "947c42579bf1486094decb8910b2cf64",
            "5d6bc7bf10fd4c198eea44c6a8341270",
            "38f2509c8b914bffa38a2f80483517c4",
            "6323a8292a8f4f8e965a21b03dbb4e53",
            "32e922a5bf024255be97882d85d181fc",
            "3131558bb01d4e868df43c67f9b107be",
            "f4b7beab639c436184a9aebb23832e90",
            "f1363de77feb4488a6c60c1fb06d9e70",
            "df4b3670f901466c8d95f9586108bd37",
            "73822ea8c9054cc697fdc6dd7f53b7d8",
            "6b392f312f4948c7b6209562402d7011",
            "6fc317323b4a456b8b30237e0b31d120",
            "4506944520474416af1ad16e9997c677",
            "05b8f1b6ce47485dac4349a7007db30d",
            "7c00595a7f21411fb4926083e69f1b13",
            "4016fb31a23f4cd394df1d29d30e913a",
            "7f185e4d018b4128bb9df88003e3f090",
            "579255eb6306496fa39e1847697a2c59",
            "fbda0f17814b496cb9b2fbfcf837dfed",
            "fab8d558832443d493ea6b0d30a03725"
          ]
        }
      },
      "outputs": [
        {
          "metadata": {
            "tags": null
          },
          "name": "stdout",
          "output_type": "stream",
          "text": [
            "EPOCH 1/4\n"
          ]
        },
        {
          "data": {
            "application/vnd.jupyter.widget-view+json": {
              "model_id": "6f5f98cc5ed94a03b43cc11fc204b8f8",
              "version_major": 2,
              "version_minor": 0
            },
            "text/plain": [
              "  0%|          | 0/1442 [00:00<?, ?it/s]"
            ]
          },
          "metadata": {},
          "output_type": "display_data"
        },
        {
          "metadata": {
            "tags": null
          },
          "name": "stdout",
          "output_type": "stream",
          "text": [
            " Batch: 50/1442, Loss: 0.18870648860931397\n",
            " Batch: 100/1442, Loss: 0.3791560840606689\n",
            " Batch: 150/1442, Loss: 0.530309853553772\n",
            " Batch: 200/1442, Loss: 0.4380500841140747\n",
            " Batch: 250/1442, Loss: 0.4227453756332398\n",
            " Batch: 300/1442, Loss: 0.19492067337036134\n",
            " Batch: 350/1442, Loss: 0.6744783926010132\n",
            " Batch: 400/1442, Loss: 0.42757229804992675\n",
            " Batch: 450/1442, Loss: 0.38652010917663576\n",
            " Batch: 500/1442, Loss: 0.4327798652648926\n",
            " Batch: 550/1442, Loss: 0.385324501991272\n",
            " Batch: 600/1442, Loss: 0.3789084100723267\n",
            " Batch: 650/1442, Loss: 0.3305200099945068\n",
            " Batch: 700/1442, Loss: 0.33364627838134764\n",
            " Batch: 750/1442, Loss: 0.24334193706512453\n",
            " Batch: 800/1442, Loss: 0.5817442274093628\n",
            " Batch: 850/1442, Loss: 0.23930420875549316\n",
            " Batch: 900/1442, Loss: 0.4375461530685425\n",
            " Batch: 950/1442, Loss: 0.2379564905166626\n",
            " Batch: 1000/1442, Loss: 0.3356373453140259\n",
            " Batch: 1050/1442, Loss: 0.2414382266998291\n",
            " Batch: 1100/1442, Loss: 0.48181806564331053\n",
            " Batch: 1150/1442, Loss: 0.6143286657333374\n",
            " Batch: 1200/1442, Loss: 0.3842798137664795\n",
            " Batch: 1250/1442, Loss: 0.24098445892333983\n",
            " Batch: 1300/1442, Loss: 0.29035574436187744\n",
            " Batch: 1350/1442, Loss: 0.1471918773651123\n",
            " Batch: 1400/1442, Loss: 0.2891393566131592\n",
            " Batch: 1442/1442, Loss: 0.3438974164781116\n",
            "EPOCH 1/4, AVG loss: 0.3660741617874696, AVG validation loss: 0.40556776490568125\n",
            "EPOCH 2/4\n"
          ]
        },
        {
          "data": {
            "application/vnd.jupyter.widget-view+json": {
              "model_id": "b9cc03788a3a43d0acd8e504e6f7193d",
              "version_major": 2,
              "version_minor": 0
            },
            "text/plain": [
              "  0%|          | 0/1442 [00:00<?, ?it/s]"
            ]
          },
          "metadata": {},
          "output_type": "display_data"
        },
        {
          "metadata": {
            "tags": null
          },
          "name": "stdout",
          "output_type": "stream",
          "text": [
            " Batch: 50/1442, Loss: 0.48358973503112795\n",
            " Batch: 100/1442, Loss: 0.5249010276794434\n",
            " Batch: 150/1442, Loss: 0.2888899612426758\n",
            " Batch: 200/1442, Loss: 0.382808575630188\n",
            " Batch: 250/1442, Loss: 0.5776543474197388\n",
            " Batch: 300/1442, Loss: 0.3847661542892456\n",
            " Batch: 350/1442, Loss: 0.33873790740966797\n",
            " Batch: 400/1442, Loss: 0.3390371894836426\n",
            " Batch: 450/1442, Loss: 0.24380601882934572\n",
            " Batch: 500/1442, Loss: 0.24843902111053467\n",
            " Batch: 550/1442, Loss: 0.4343320655822754\n",
            " Batch: 600/1442, Loss: 0.28398359775543214\n",
            " Batch: 650/1442, Loss: 0.7290492153167725\n",
            " Batch: 700/1442, Loss: 0.3390295791625977\n",
            " Batch: 750/1442, Loss: 0.4781984329223633\n",
            " Batch: 800/1442, Loss: 0.3323149061203003\n",
            " Batch: 850/1442, Loss: 0.6673140239715576\n",
            " Batch: 900/1442, Loss: 0.42776081085205075\n",
            " Batch: 950/1442, Loss: 0.5293233823776246\n",
            " Batch: 1000/1442, Loss: 0.23995311737060546\n",
            " Batch: 1050/1442, Loss: 0.388621883392334\n",
            " Batch: 1100/1442, Loss: 0.23870712280273437\n",
            " Batch: 1150/1442, Loss: 0.5318951416015625\n",
            " Batch: 1200/1442, Loss: 0.43245105266571043\n",
            " Batch: 1250/1442, Loss: 0.6711090326309204\n",
            " Batch: 1300/1442, Loss: 0.38269112586975096\n",
            " Batch: 1350/1442, Loss: 0.389016752243042\n",
            " Batch: 1400/1442, Loss: 0.3823359537124634\n",
            " Batch: 1442/1442, Loss: 0.5167248703184582\n",
            "EPOCH 2/4, AVG loss: 0.4204149107331211, AVG validation loss: 0.43764793047284156\n",
            "EPOCH 3/4\n"
          ]
        },
        {
          "data": {
            "application/vnd.jupyter.widget-view+json": {
              "model_id": "df4b3670f901466c8d95f9586108bd37",
              "version_major": 2,
              "version_minor": 0
            },
            "text/plain": [
              "  0%|          | 0/1442 [00:00<?, ?it/s]"
            ]
          },
          "metadata": {},
          "output_type": "display_data"
        },
        {
          "output_type": "stream",
          "name": "stdout",
          "text": [
            " Batch: 50/1442, Loss: 0.2355154800415039\n",
            " Batch: 100/1442, Loss: 0.28796700000762937\n",
            " Batch: 150/1442, Loss: 0.33151681423187257\n",
            " Batch: 200/1442, Loss: 0.3837150764465332\n",
            " Batch: 250/1442, Loss: 0.24168849468231202\n",
            " Batch: 300/1442, Loss: 0.3839277696609497\n",
            " Batch: 350/1442, Loss: 0.2900192165374756\n",
            " Batch: 400/1442, Loss: 0.38649051666259765\n",
            " Batch: 450/1442, Loss: 0.4280391550064087\n",
            " Batch: 500/1442, Loss: 0.3308958911895752\n",
            " Batch: 550/1442, Loss: 0.4250065088272095\n",
            " Batch: 600/1442, Loss: 0.24707740783691406\n",
            " Batch: 650/1442, Loss: 0.38976474285125734\n",
            " Batch: 700/1442, Loss: 0.3460726881027222\n",
            " Batch: 750/1442, Loss: 0.3343034648895264\n",
            " Batch: 800/1442, Loss: 0.23975451946258544\n",
            " Batch: 850/1442, Loss: 0.33926905632019044\n",
            " Batch: 900/1442, Loss: 0.23809996604919434\n",
            " Batch: 950/1442, Loss: 0.38177885055541994\n",
            " Batch: 1000/1442, Loss: 0.6255197238922119\n",
            " Batch: 1050/1442, Loss: 0.5247849369049072\n",
            " Batch: 1100/1442, Loss: 0.38197783946990965\n",
            " Batch: 1150/1442, Loss: 0.6299153280258178\n",
            " Batch: 1200/1442, Loss: 0.5823321390151978\n",
            " Batch: 1250/1442, Loss: 0.3391250562667847\n",
            " Batch: 1300/1442, Loss: 0.34290571212768556\n",
            " Batch: 1350/1442, Loss: 0.2405585241317749\n",
            " Batch: 1400/1442, Loss: 0.3804472494125366\n",
            " Batch: 1442/1442, Loss: 0.513835589090983\n",
            "EPOCH 3/4, AVG loss: 0.37170912009171736, AVG validation loss: 0.37820022324115615\n",
            "EPOCH 4/4\n"
          ]
        },
        {
          "output_type": "display_data",
          "data": {
            "text/plain": [
              "  0%|          | 0/1442 [00:00<?, ?it/s]"
            ],
            "application/vnd.jupyter.widget-view+json": {
              "version_major": 2,
              "version_minor": 0,
              "model_id": "73822ea8c9054cc697fdc6dd7f53b7d8"
            }
          },
          "metadata": {}
        },
        {
          "output_type": "stream",
          "name": "stdout",
          "text": [
            " Batch: 50/1442, Loss: 0.43671858310699463\n",
            " Batch: 100/1442, Loss: 0.5257654428482056\n",
            " Batch: 150/1442, Loss: 0.47783774852752686\n",
            " Batch: 200/1442, Loss: 0.5349494552612305\n",
            " Batch: 250/1442, Loss: 0.2900907754898071\n",
            " Batch: 300/1442, Loss: 0.47498852729797364\n",
            " Batch: 350/1442, Loss: 0.5267122888565063\n",
            " Batch: 400/1442, Loss: 0.23960456848144532\n",
            " Batch: 450/1442, Loss: 0.48248091220855716\n",
            " Batch: 500/1442, Loss: 0.5768134117126464\n",
            " Batch: 550/1442, Loss: 0.3371593713760376\n",
            " Batch: 600/1442, Loss: 0.3367730093002319\n",
            " Batch: 650/1442, Loss: 0.38186458110809324\n",
            " Batch: 700/1442, Loss: 0.3365298652648926\n",
            " Batch: 750/1442, Loss: 0.3398141431808472\n",
            " Batch: 800/1442, Loss: 0.6709850931167602\n",
            " Batch: 850/1442, Loss: 0.4310989046096802\n",
            " Batch: 900/1442, Loss: 0.4306166410446167\n",
            " Batch: 950/1442, Loss: 0.28823057174682615\n",
            " Batch: 1000/1442, Loss: 0.4288435173034668\n",
            " Batch: 1050/1442, Loss: 0.33380626678466796\n",
            " Batch: 1100/1442, Loss: 0.24024178504943847\n",
            " Batch: 1150/1442, Loss: 0.5729119110107422\n",
            " Batch: 1200/1442, Loss: 0.24179055213928222\n",
            " Batch: 1250/1442, Loss: 0.47814571380615234\n",
            " Batch: 1300/1442, Loss: 0.4336153697967529\n",
            " Batch: 1350/1442, Loss: 0.4852128314971924\n",
            " Batch: 1400/1442, Loss: 0.2893188858032227\n",
            " Batch: 1442/1442, Loss: 0.577356355530875\n",
            "EPOCH 4/4, AVG loss: 0.41983009938889504, AVG validation loss: 0.41618167066177836\n"
          ]
        }
      ],
      "source": [
        "# Train the model\n",
        "losses = train(\n",
        "    model,\n",
        "    dataloaders=(training_loader, validation_loader),\n",
        "    loss_func=ntxent_loss,\n",
        "    optimizer=m_optimizer,\n",
        "    scheduler=m_scheduler,\n",
        "    epochs=4\n",
        ")"
      ]
    },
    {
      "cell_type": "code",
      "execution_count": 22,
      "metadata": {
        "id": "rTKcoNDWTgFE",
        "outputId": "ad572ba6-795a-497a-b926-9bcc70f94892",
        "colab": {
          "base_uri": "https://localhost:8080/",
          "height": 430
        }
      },
      "outputs": [
        {
          "output_type": "display_data",
          "data": {
            "text/plain": [
              "<Figure size 640x480 with 1 Axes>"
            ],
            "image/png": "[encoded data removed]"
          },
          "metadata": {}
        }
      ],
      "source": [
        "plt.plot(losses[0])\n",
        "plt.plot(losses[1])\n",
        "plt.legend(['training loss', 'validation loss'])\n",
        "plt.show()"
      ]
    },
    {
      "cell_type": "markdown",
      "metadata": {
        "id": "7srChA6YkJJK"
      },
      "source": [
        "## Notes\n",
        "\n",
        "### Training results with different parameters:\n",
        "\n",
        "| Pretrained Model |`T`| Model Structure | Epochs | Training Loss | Validation Loss |\n",
        "| ---------- | - | --------------- | ------ | ------------- | --------------- |\n",
        "| CodeBERTa Small v1 | 0.07 | TFM → mean pool → MLP w/ batchnorm | - | ~1.6 | - |\n",
        "| CodeBERTa Small v1 | 0.07 | TFM → lin1 → lin2 → MLP w/ batchnorm → max pool | - | ~1.4 | - |\n",
        "| CodeBERTa Small v1 | 0.50 | (frozen) TFM's pooler output → layernorm → lin1 → lin2 → MLP  | 6 |  ~1.5 | ~1.35 |\n",
        "\n",
        "`T` is the temperature hyperparameter of the NTXent loss function.\n",
        "\n",
        "### Data TODOs\n",
        "- ❎ - A lot of codes snippets mined from github can't be minified, filter unlabeled code dataset!\n",
        "\n",
        "### Model TODOs\n",
        "- ❎ - Try training with transformer's `pooler_output`\n",
        "- ❎ - Fine-tuning the transformer"
      ]
    }
  ],
  "metadata": {
    "accelerator": "GPU",
    "colab": {
      "gpuType": "T4",
      "provenance": [],
      "include_colab_link": true
    },
    "kernelspec": {
      "display_name": ".venv",
      "language": "python",
      "name": "python3"
    },
    "language_info": {
      "codemirror_mode": {
        "name": "ipython",
        "version": 3
      },
      "file_extension": ".py",
      "mimetype": "text/x-python",
      "name": "python",
      "nbconvert_exporter": "python",
      "pygments_lexer": "ipython3",
      "version": "3.11.2"
    },
    "widgets": {
      "application/vnd.jupyter.widget-state+json": {
        "6f5f98cc5ed94a03b43cc11fc204b8f8": {
          "model_module": "@jupyter-widgets/controls",
          "model_name": "HBoxModel",
          "model_module_version": "1.5.0",
          "state": {
            "_dom_classes": [],
            "_model_module": "@jupyter-widgets/controls",
            "_model_module_version": "1.5.0",
            "_model_name": "HBoxModel",
            "_view_count": null,
            "_view_module": "@jupyter-widgets/controls",
            "_view_module_version": "1.5.0",
            "_view_name": "HBoxView",
            "box_style": "",
            "children": [
              "IPY_MODEL_bba12233ae0046e083a672d1e31d0821",
              "IPY_MODEL_3cdf31a9f06a4bc6a5884e22111c7292",
              "IPY_MODEL_7186e48383734aba86938139a00bab79"
            ],
            "layout": "IPY_MODEL_1ce76c0297ac42cb8274f21f5b50debf"
          }
        },
        "bba12233ae0046e083a672d1e31d0821": {
          "model_module": "@jupyter-widgets/controls",
          "model_name": "HTMLModel",
          "model_module_version": "1.5.0",
          "state": {
            "_dom_classes": [],
            "_model_module": "@jupyter-widgets/controls",
            "_model_module_version": "1.5.0",
            "_model_name": "HTMLModel",
            "_view_count": null,
            "_view_module": "@jupyter-widgets/controls",
            "_view_module_version": "1.5.0",
            "_view_name": "HTMLView",
            "description": "",
            "description_tooltip": null,
            "layout": "IPY_MODEL_0cabb2d38c5945e396989d245d27a2e7",
            "placeholder": "​",
            "style": "IPY_MODEL_1bdabf7431774e4d9f1f4dd1c434f98a",
            "value": "100%"
          }
        },
        "3cdf31a9f06a4bc6a5884e22111c7292": {
          "model_module": "@jupyter-widgets/controls",
          "model_name": "FloatProgressModel",
          "model_module_version": "1.5.0",
          "state": {
            "_dom_classes": [],
            "_model_module": "@jupyter-widgets/controls",
            "_model_module_version": "1.5.0",
            "_model_name": "FloatProgressModel",
            "_view_count": null,
            "_view_module": "@jupyter-widgets/controls",
            "_view_module_version": "1.5.0",
            "_view_name": "ProgressView",
            "bar_style": "",
            "description": "",
            "description_tooltip": null,
            "layout": "IPY_MODEL_0850847ef11a4c28a4ba14c00167479d",
            "max": 1442,
            "min": 0,
            "orientation": "horizontal",
            "style": "IPY_MODEL_c65e6904946048f1978f28515fd4935f",
            "value": 1442
          }
        },
        "7186e48383734aba86938139a00bab79": {
          "model_module": "@jupyter-widgets/controls",
          "model_name": "HTMLModel",
          "model_module_version": "1.5.0",
          "state": {
            "_dom_classes": [],
            "_model_module": "@jupyter-widgets/controls",
            "_model_module_version": "1.5.0",
            "_model_name": "HTMLModel",
            "_view_count": null,
            "_view_module": "@jupyter-widgets/controls",
            "_view_module_version": "1.5.0",
            "_view_name": "HTMLView",
            "description": "",
            "description_tooltip": null,
            "layout": "IPY_MODEL_b853be393039415a81ffdcdcff09db76",
            "placeholder": "​",
            "style": "IPY_MODEL_cf17ca782d7043bb8f0428b6c83872b3",
            "value": " 1442/1442 [22:08&lt;00:00,  1.07it/s]"
          }
        },
        "1ce76c0297ac42cb8274f21f5b50debf": {
          "model_module": "@jupyter-widgets/base",
          "model_name": "LayoutModel",
          "model_module_version": "1.2.0",
          "state": {
            "_model_module": "@jupyter-widgets/base",
            "_model_module_version": "1.2.0",
            "_model_name": "LayoutModel",
            "_view_count": null,
            "_view_module": "@jupyter-widgets/base",
            "_view_module_version": "1.2.0",
            "_view_name": "LayoutView",
            "align_content": null,
            "align_items": null,
            "align_self": null,
            "border": null,
            "bottom": null,
            "display": null,
            "flex": null,
            "flex_flow": null,
            "grid_area": null,
            "grid_auto_columns": null,
            "grid_auto_flow": null,
            "grid_auto_rows": null,
            "grid_column": null,
            "grid_gap": null,
            "grid_row": null,
            "grid_template_areas": null,
            "grid_template_columns": null,
            "grid_template_rows": null,
            "height": null,
            "justify_content": null,
            "justify_items": null,
            "left": null,
            "margin": null,
            "max_height": null,
            "max_width": null,
            "min_height": null,
            "min_width": null,
            "object_fit": null,
            "object_position": null,
            "order": null,
            "overflow": null,
            "overflow_x": null,
            "overflow_y": null,
            "padding": null,
            "right": null,
            "top": null,
            "visibility": null,
            "width": null
          }
        },
        "0cabb2d38c5945e396989d245d27a2e7": {
          "model_module": "@jupyter-widgets/base",
          "model_name": "LayoutModel",
          "model_module_version": "1.2.0",
          "state": {
            "_model_module": "@jupyter-widgets/base",
            "_model_module_version": "1.2.0",
            "_model_name": "LayoutModel",
            "_view_count": null,
            "_view_module": "@jupyter-widgets/base",
            "_view_module_version": "1.2.0",
            "_view_name": "LayoutView",
            "align_content": null,
            "align_items": null,
            "align_self": null,
            "border": null,
            "bottom": null,
            "display": null,
            "flex": null,
            "flex_flow": null,
            "grid_area": null,
            "grid_auto_columns": null,
            "grid_auto_flow": null,
            "grid_auto_rows": null,
            "grid_column": null,
            "grid_gap": null,
            "grid_row": null,
            "grid_template_areas": null,
            "grid_template_columns": null,
            "grid_template_rows": null,
            "height": null,
            "justify_content": null,
            "justify_items": null,
            "left": null,
            "margin": null,
            "max_height": null,
            "max_width": null,
            "min_height": null,
            "min_width": null,
            "object_fit": null,
            "object_position": null,
            "order": null,
            "overflow": null,
            "overflow_x": null,
            "overflow_y": null,
            "padding": null,
            "right": null,
            "top": null,
            "visibility": null,
            "width": null
          }
        },
        "1bdabf7431774e4d9f1f4dd1c434f98a": {
          "model_module": "@jupyter-widgets/controls",
          "model_name": "DescriptionStyleModel",
          "model_module_version": "1.5.0",
          "state": {
            "_model_module": "@jupyter-widgets/controls",
            "_model_module_version": "1.5.0",
            "_model_name": "DescriptionStyleModel",
            "_view_count": null,
            "_view_module": "@jupyter-widgets/base",
            "_view_module_version": "1.2.0",
            "_view_name": "StyleView",
            "description_width": ""
          }
        },
        "0850847ef11a4c28a4ba14c00167479d": {
          "model_module": "@jupyter-widgets/base",
          "model_name": "LayoutModel",
          "model_module_version": "1.2.0",
          "state": {
            "_model_module": "@jupyter-widgets/base",
            "_model_module_version": "1.2.0",
            "_model_name": "LayoutModel",
            "_view_count": null,
            "_view_module": "@jupyter-widgets/base",
            "_view_module_version": "1.2.0",
            "_view_name": "LayoutView",
            "align_content": null,
            "align_items": null,
            "align_self": null,
            "border": null,
            "bottom": null,
            "display": null,
            "flex": null,
            "flex_flow": null,
            "grid_area": null,
            "grid_auto_columns": null,
            "grid_auto_flow": null,
            "grid_auto_rows": null,
            "grid_column": null,
            "grid_gap": null,
            "grid_row": null,
            "grid_template_areas": null,
            "grid_template_columns": null,
            "grid_template_rows": null,
            "height": null,
            "justify_content": null,
            "justify_items": null,
            "left": null,
            "margin": null,
            "max_height": null,
            "max_width": null,
            "min_height": null,
            "min_width": null,
            "object_fit": null,
            "object_position": null,
            "order": null,
            "overflow": null,
            "overflow_x": null,
            "overflow_y": null,
            "padding": null,
            "right": null,
            "top": null,
            "visibility": null,
            "width": null
          }
        },
        "c65e6904946048f1978f28515fd4935f": {
          "model_module": "@jupyter-widgets/controls",
          "model_name": "ProgressStyleModel",
          "model_module_version": "1.5.0",
          "state": {
            "_model_module": "@jupyter-widgets/controls",
            "_model_module_version": "1.5.0",
            "_model_name": "ProgressStyleModel",
            "_view_count": null,
            "_view_module": "@jupyter-widgets/base",
            "_view_module_version": "1.2.0",
            "_view_name": "StyleView",
            "bar_color": null,
            "description_width": ""
          }
        },
        "b853be393039415a81ffdcdcff09db76": {
          "model_module": "@jupyter-widgets/base",
          "model_name": "LayoutModel",
          "model_module_version": "1.2.0",
          "state": {
            "_model_module": "@jupyter-widgets/base",
            "_model_module_version": "1.2.0",
            "_model_name": "LayoutModel",
            "_view_count": null,
            "_view_module": "@jupyter-widgets/base",
            "_view_module_version": "1.2.0",
            "_view_name": "LayoutView",
            "align_content": null,
            "align_items": null,
            "align_self": null,
            "border": null,
            "bottom": null,
            "display": null,
            "flex": null,
            "flex_flow": null,
            "grid_area": null,
            "grid_auto_columns": null,
            "grid_auto_flow": null,
            "grid_auto_rows": null,
            "grid_column": null,
            "grid_gap": null,
            "grid_row": null,
            "grid_template_areas": null,
            "grid_template_columns": null,
            "grid_template_rows": null,
            "height": null,
            "justify_content": null,
            "justify_items": null,
            "left": null,
            "margin": null,
            "max_height": null,
            "max_width": null,
            "min_height": null,
            "min_width": null,
            "object_fit": null,
            "object_position": null,
            "order": null,
            "overflow": null,
            "overflow_x": null,
            "overflow_y": null,
            "padding": null,
            "right": null,
            "top": null,
            "visibility": null,
            "width": null
          }
        },
        "cf17ca782d7043bb8f0428b6c83872b3": {
          "model_module": "@jupyter-widgets/controls",
          "model_name": "DescriptionStyleModel",
          "model_module_version": "1.5.0",
          "state": {
            "_model_module": "@jupyter-widgets/controls",
            "_model_module_version": "1.5.0",
            "_model_name": "DescriptionStyleModel",
            "_view_count": null,
            "_view_module": "@jupyter-widgets/base",
            "_view_module_version": "1.2.0",
            "_view_name": "StyleView",
            "description_width": ""
          }
        },
        "b9cc03788a3a43d0acd8e504e6f7193d": {
          "model_module": "@jupyter-widgets/controls",
          "model_name": "HBoxModel",
          "model_module_version": "1.5.0",
          "state": {
            "_dom_classes": [],
            "_model_module": "@jupyter-widgets/controls",
            "_model_module_version": "1.5.0",
            "_model_name": "HBoxModel",
            "_view_count": null,
            "_view_module": "@jupyter-widgets/controls",
            "_view_module_version": "1.5.0",
            "_view_name": "HBoxView",
            "box_style": "",
            "children": [
              "IPY_MODEL_2bebc8017c7b4165b4d4b9d49322ac65",
              "IPY_MODEL_848ddde161a047779266d0d4ae728247",
              "IPY_MODEL_947c42579bf1486094decb8910b2cf64"
            ],
            "layout": "IPY_MODEL_5d6bc7bf10fd4c198eea44c6a8341270"
          }
        },
        "2bebc8017c7b4165b4d4b9d49322ac65": {
          "model_module": "@jupyter-widgets/controls",
          "model_name": "HTMLModel",
          "model_module_version": "1.5.0",
          "state": {
            "_dom_classes": [],
            "_model_module": "@jupyter-widgets/controls",
            "_model_module_version": "1.5.0",
            "_model_name": "HTMLModel",
            "_view_count": null,
            "_view_module": "@jupyter-widgets/controls",
            "_view_module_version": "1.5.0",
            "_view_name": "HTMLView",
            "description": "",
            "description_tooltip": null,
            "layout": "IPY_MODEL_38f2509c8b914bffa38a2f80483517c4",
            "placeholder": "​",
            "style": "IPY_MODEL_6323a8292a8f4f8e965a21b03dbb4e53",
            "value": "100%"
          }
        },
        "848ddde161a047779266d0d4ae728247": {
          "model_module": "@jupyter-widgets/controls",
          "model_name": "FloatProgressModel",
          "model_module_version": "1.5.0",
          "state": {
            "_dom_classes": [],
            "_model_module": "@jupyter-widgets/controls",
            "_model_module_version": "1.5.0",
            "_model_name": "FloatProgressModel",
            "_view_count": null,
            "_view_module": "@jupyter-widgets/controls",
            "_view_module_version": "1.5.0",
            "_view_name": "ProgressView",
            "bar_style": "",
            "description": "",
            "description_tooltip": null,
            "layout": "IPY_MODEL_32e922a5bf024255be97882d85d181fc",
            "max": 1442,
            "min": 0,
            "orientation": "horizontal",
            "style": "IPY_MODEL_3131558bb01d4e868df43c67f9b107be",
            "value": 1442
          }
        },
        "947c42579bf1486094decb8910b2cf64": {
          "model_module": "@jupyter-widgets/controls",
          "model_name": "HTMLModel",
          "model_module_version": "1.5.0",
          "state": {
            "_dom_classes": [],
            "_model_module": "@jupyter-widgets/controls",
            "_model_module_version": "1.5.0",
            "_model_name": "HTMLModel",
            "_view_count": null,
            "_view_module": "@jupyter-widgets/controls",
            "_view_module_version": "1.5.0",
            "_view_name": "HTMLView",
            "description": "",
            "description_tooltip": null,
            "layout": "IPY_MODEL_f4b7beab639c436184a9aebb23832e90",
            "placeholder": "​",
            "style": "IPY_MODEL_f1363de77feb4488a6c60c1fb06d9e70",
            "value": " 1442/1442 [22:08&lt;00:00,  1.08it/s]"
          }
        },
        "5d6bc7bf10fd4c198eea44c6a8341270": {
          "model_module": "@jupyter-widgets/base",
          "model_name": "LayoutModel",
          "model_module_version": "1.2.0",
          "state": {
            "_model_module": "@jupyter-widgets/base",
            "_model_module_version": "1.2.0",
            "_model_name": "LayoutModel",
            "_view_count": null,
            "_view_module": "@jupyter-widgets/base",
            "_view_module_version": "1.2.0",
            "_view_name": "LayoutView",
            "align_content": null,
            "align_items": null,
            "align_self": null,
            "border": null,
            "bottom": null,
            "display": null,
            "flex": null,
            "flex_flow": null,
            "grid_area": null,
            "grid_auto_columns": null,
            "grid_auto_flow": null,
            "grid_auto_rows": null,
            "grid_column": null,
            "grid_gap": null,
            "grid_row": null,
            "grid_template_areas": null,
            "grid_template_columns": null,
            "grid_template_rows": null,
            "height": null,
            "justify_content": null,
            "justify_items": null,
            "left": null,
            "margin": null,
            "max_height": null,
            "max_width": null,
            "min_height": null,
            "min_width": null,
            "object_fit": null,
            "object_position": null,
            "order": null,
            "overflow": null,
            "overflow_x": null,
            "overflow_y": null,
            "padding": null,
            "right": null,
            "top": null,
            "visibility": null,
            "width": null
          }
        },
        "38f2509c8b914bffa38a2f80483517c4": {
          "model_module": "@jupyter-widgets/base",
          "model_name": "LayoutModel",
          "model_module_version": "1.2.0",
          "state": {
            "_model_module": "@jupyter-widgets/base",
            "_model_module_version": "1.2.0",
            "_model_name": "LayoutModel",
            "_view_count": null,
            "_view_module": "@jupyter-widgets/base",
            "_view_module_version": "1.2.0",
            "_view_name": "LayoutView",
            "align_content": null,
            "align_items": null,
            "align_self": null,
            "border": null,
            "bottom": null,
            "display": null,
            "flex": null,
            "flex_flow": null,
            "grid_area": null,
            "grid_auto_columns": null,
            "grid_auto_flow": null,
            "grid_auto_rows": null,
            "grid_column": null,
            "grid_gap": null,
            "grid_row": null,
            "grid_template_areas": null,
            "grid_template_columns": null,
            "grid_template_rows": null,
            "height": null,
            "justify_content": null,
            "justify_items": null,
            "left": null,
            "margin": null,
            "max_height": null,
            "max_width": null,
            "min_height": null,
            "min_width": null,
            "object_fit": null,
            "object_position": null,
            "order": null,
            "overflow": null,
            "overflow_x": null,
            "overflow_y": null,
            "padding": null,
            "right": null,
            "top": null,
            "visibility": null,
            "width": null
          }
        },
        "6323a8292a8f4f8e965a21b03dbb4e53": {
          "model_module": "@jupyter-widgets/controls",
          "model_name": "DescriptionStyleModel",
          "model_module_version": "1.5.0",
          "state": {
            "_model_module": "@jupyter-widgets/controls",
            "_model_module_version": "1.5.0",
            "_model_name": "DescriptionStyleModel",
            "_view_count": null,
            "_view_module": "@jupyter-widgets/base",
            "_view_module_version": "1.2.0",
            "_view_name": "StyleView",
            "description_width": ""
          }
        },
        "32e922a5bf024255be97882d85d181fc": {
          "model_module": "@jupyter-widgets/base",
          "model_name": "LayoutModel",
          "model_module_version": "1.2.0",
          "state": {
            "_model_module": "@jupyter-widgets/base",
            "_model_module_version": "1.2.0",
            "_model_name": "LayoutModel",
            "_view_count": null,
            "_view_module": "@jupyter-widgets/base",
            "_view_module_version": "1.2.0",
            "_view_name": "LayoutView",
            "align_content": null,
            "align_items": null,
            "align_self": null,
            "border": null,
            "bottom": null,
            "display": null,
            "flex": null,
            "flex_flow": null,
            "grid_area": null,
            "grid_auto_columns": null,
            "grid_auto_flow": null,
            "grid_auto_rows": null,
            "grid_column": null,
            "grid_gap": null,
            "grid_row": null,
            "grid_template_areas": null,
            "grid_template_columns": null,
            "grid_template_rows": null,
            "height": null,
            "justify_content": null,
            "justify_items": null,
            "left": null,
            "margin": null,
            "max_height": null,
            "max_width": null,
            "min_height": null,
            "min_width": null,
            "object_fit": null,
            "object_position": null,
            "order": null,
            "overflow": null,
            "overflow_x": null,
            "overflow_y": null,
            "padding": null,
            "right": null,
            "top": null,
            "visibility": null,
            "width": null
          }
        },
        "3131558bb01d4e868df43c67f9b107be": {
          "model_module": "@jupyter-widgets/controls",
          "model_name": "ProgressStyleModel",
          "model_module_version": "1.5.0",
          "state": {
            "_model_module": "@jupyter-widgets/controls",
            "_model_module_version": "1.5.0",
            "_model_name": "ProgressStyleModel",
            "_view_count": null,
            "_view_module": "@jupyter-widgets/base",
            "_view_module_version": "1.2.0",
            "_view_name": "StyleView",
            "bar_color": null,
            "description_width": ""
          }
        },
        "f4b7beab639c436184a9aebb23832e90": {
          "model_module": "@jupyter-widgets/base",
          "model_name": "LayoutModel",
          "model_module_version": "1.2.0",
          "state": {
            "_model_module": "@jupyter-widgets/base",
            "_model_module_version": "1.2.0",
            "_model_name": "LayoutModel",
            "_view_count": null,
            "_view_module": "@jupyter-widgets/base",
            "_view_module_version": "1.2.0",
            "_view_name": "LayoutView",
            "align_content": null,
            "align_items": null,
            "align_self": null,
            "border": null,
            "bottom": null,
            "display": null,
            "flex": null,
            "flex_flow": null,
            "grid_area": null,
            "grid_auto_columns": null,
            "grid_auto_flow": null,
            "grid_auto_rows": null,
            "grid_column": null,
            "grid_gap": null,
            "grid_row": null,
            "grid_template_areas": null,
            "grid_template_columns": null,
            "grid_template_rows": null,
            "height": null,
            "justify_content": null,
            "justify_items": null,
            "left": null,
            "margin": null,
            "max_height": null,
            "max_width": null,
            "min_height": null,
            "min_width": null,
            "object_fit": null,
            "object_position": null,
            "order": null,
            "overflow": null,
            "overflow_x": null,
            "overflow_y": null,
            "padding": null,
            "right": null,
            "top": null,
            "visibility": null,
            "width": null
          }
        },
        "f1363de77feb4488a6c60c1fb06d9e70": {
          "model_module": "@jupyter-widgets/controls",
          "model_name": "DescriptionStyleModel",
          "model_module_version": "1.5.0",
          "state": {
            "_model_module": "@jupyter-widgets/controls",
            "_model_module_version": "1.5.0",
            "_model_name": "DescriptionStyleModel",
            "_view_count": null,
            "_view_module": "@jupyter-widgets/base",
            "_view_module_version": "1.2.0",
            "_view_name": "StyleView",
            "description_width": ""
          }
        },
        "73822ea8c9054cc697fdc6dd7f53b7d8": {
          "model_module": "@jupyter-widgets/controls",
          "model_name": "HBoxModel",
          "model_module_version": "1.5.0",
          "state": {
            "_dom_classes": [],
            "_model_module": "@jupyter-widgets/controls",
            "_model_module_version": "1.5.0",
            "_model_name": "HBoxModel",
            "_view_count": null,
            "_view_module": "@jupyter-widgets/controls",
            "_view_module_version": "1.5.0",
            "_view_name": "HBoxView",
            "box_style": "",
            "children": [
              "IPY_MODEL_6b392f312f4948c7b6209562402d7011",
              "IPY_MODEL_6fc317323b4a456b8b30237e0b31d120",
              "IPY_MODEL_4506944520474416af1ad16e9997c677"
            ],
            "layout": "IPY_MODEL_05b8f1b6ce47485dac4349a7007db30d"
          }
        },
        "6b392f312f4948c7b6209562402d7011": {
          "model_module": "@jupyter-widgets/controls",
          "model_name": "HTMLModel",
          "model_module_version": "1.5.0",
          "state": {
            "_dom_classes": [],
            "_model_module": "@jupyter-widgets/controls",
            "_model_module_version": "1.5.0",
            "_model_name": "HTMLModel",
            "_view_count": null,
            "_view_module": "@jupyter-widgets/controls",
            "_view_module_version": "1.5.0",
            "_view_name": "HTMLView",
            "description": "",
            "description_tooltip": null,
            "layout": "IPY_MODEL_7c00595a7f21411fb4926083e69f1b13",
            "placeholder": "​",
            "style": "IPY_MODEL_4016fb31a23f4cd394df1d29d30e913a",
            "value": "100%"
          }
        },
        "6fc317323b4a456b8b30237e0b31d120": {
          "model_module": "@jupyter-widgets/controls",
          "model_name": "FloatProgressModel",
          "model_module_version": "1.5.0",
          "state": {
            "_dom_classes": [],
            "_model_module": "@jupyter-widgets/controls",
            "_model_module_version": "1.5.0",
            "_model_name": "FloatProgressModel",
            "_view_count": null,
            "_view_module": "@jupyter-widgets/controls",
            "_view_module_version": "1.5.0",
            "_view_name": "ProgressView",
            "bar_style": "success",
            "description": "",
            "description_tooltip": null,
            "layout": "IPY_MODEL_7f185e4d018b4128bb9df88003e3f090",
            "max": 1442,
            "min": 0,
            "orientation": "horizontal",
            "style": "IPY_MODEL_579255eb6306496fa39e1847697a2c59",
            "value": 1442
          }
        },
        "4506944520474416af1ad16e9997c677": {
          "model_module": "@jupyter-widgets/controls",
          "model_name": "HTMLModel",
          "model_module_version": "1.5.0",
          "state": {
            "_dom_classes": [],
            "_model_module": "@jupyter-widgets/controls",
            "_model_module_version": "1.5.0",
            "_model_name": "HTMLModel",
            "_view_count": null,
            "_view_module": "@jupyter-widgets/controls",
            "_view_module_version": "1.5.0",
            "_view_name": "HTMLView",
            "description": "",
            "description_tooltip": null,
            "layout": "IPY_MODEL_fbda0f17814b496cb9b2fbfcf837dfed",
            "placeholder": "​",
            "style": "IPY_MODEL_fab8d558832443d493ea6b0d30a03725",
            "value": " 1442/1442 [24:16&lt;00:00,  1.08it/s]"
          }
        },
        "05b8f1b6ce47485dac4349a7007db30d": {
          "model_module": "@jupyter-widgets/base",
          "model_name": "LayoutModel",
          "model_module_version": "1.2.0",
          "state": {
            "_model_module": "@jupyter-widgets/base",
            "_model_module_version": "1.2.0",
            "_model_name": "LayoutModel",
            "_view_count": null,
            "_view_module": "@jupyter-widgets/base",
            "_view_module_version": "1.2.0",
            "_view_name": "LayoutView",
            "align_content": null,
            "align_items": null,
            "align_self": null,
            "border": null,
            "bottom": null,
            "display": null,
            "flex": null,
            "flex_flow": null,
            "grid_area": null,
            "grid_auto_columns": null,
            "grid_auto_flow": null,
            "grid_auto_rows": null,
            "grid_column": null,
            "grid_gap": null,
            "grid_row": null,
            "grid_template_areas": null,
            "grid_template_columns": null,
            "grid_template_rows": null,
            "height": null,
            "justify_content": null,
            "justify_items": null,
            "left": null,
            "margin": null,
            "max_height": null,
            "max_width": null,
            "min_height": null,
            "min_width": null,
            "object_fit": null,
            "object_position": null,
            "order": null,
            "overflow": null,
            "overflow_x": null,
            "overflow_y": null,
            "padding": null,
            "right": null,
            "top": null,
            "visibility": null,
            "width": null
          }
        },
        "7c00595a7f21411fb4926083e69f1b13": {
          "model_module": "@jupyter-widgets/base",
          "model_name": "LayoutModel",
          "model_module_version": "1.2.0",
          "state": {
            "_model_module": "@jupyter-widgets/base",
            "_model_module_version": "1.2.0",
            "_model_name": "LayoutModel",
            "_view_count": null,
            "_view_module": "@jupyter-widgets/base",
            "_view_module_version": "1.2.0",
            "_view_name": "LayoutView",
            "align_content": null,
            "align_items": null,
            "align_self": null,
            "border": null,
            "bottom": null,
            "display": null,
            "flex": null,
            "flex_flow": null,
            "grid_area": null,
            "grid_auto_columns": null,
            "grid_auto_flow": null,
            "grid_auto_rows": null,
            "grid_column": null,
            "grid_gap": null,
            "grid_row": null,
            "grid_template_areas": null,
            "grid_template_columns": null,
            "grid_template_rows": null,
            "height": null,
            "justify_content": null,
            "justify_items": null,
            "left": null,
            "margin": null,
            "max_height": null,
            "max_width": null,
            "min_height": null,
            "min_width": null,
            "object_fit": null,
            "object_position": null,
            "order": null,
            "overflow": null,
            "overflow_x": null,
            "overflow_y": null,
            "padding": null,
            "right": null,
            "top": null,
            "visibility": null,
            "width": null
          }
        },
        "4016fb31a23f4cd394df1d29d30e913a": {
          "model_module": "@jupyter-widgets/controls",
          "model_name": "DescriptionStyleModel",
          "model_module_version": "1.5.0",
          "state": {
            "_model_module": "@jupyter-widgets/controls",
            "_model_module_version": "1.5.0",
            "_model_name": "DescriptionStyleModel",
            "_view_count": null,
            "_view_module": "@jupyter-widgets/base",
            "_view_module_version": "1.2.0",
            "_view_name": "StyleView",
            "description_width": ""
          }
        },
        "7f185e4d018b4128bb9df88003e3f090": {
          "model_module": "@jupyter-widgets/base",
          "model_name": "LayoutModel",
          "model_module_version": "1.2.0",
          "state": {
            "_model_module": "@jupyter-widgets/base",
            "_model_module_version": "1.2.0",
            "_model_name": "LayoutModel",
            "_view_count": null,
            "_view_module": "@jupyter-widgets/base",
            "_view_module_version": "1.2.0",
            "_view_name": "LayoutView",
            "align_content": null,
            "align_items": null,
            "align_self": null,
            "border": null,
            "bottom": null,
            "display": null,
            "flex": null,
            "flex_flow": null,
            "grid_area": null,
            "grid_auto_columns": null,
            "grid_auto_flow": null,
            "grid_auto_rows": null,
            "grid_column": null,
            "grid_gap": null,
            "grid_row": null,
            "grid_template_areas": null,
            "grid_template_columns": null,
            "grid_template_rows": null,
            "height": null,
            "justify_content": null,
            "justify_items": null,
            "left": null,
            "margin": null,
            "max_height": null,
            "max_width": null,
            "min_height": null,
            "min_width": null,
            "object_fit": null,
            "object_position": null,
            "order": null,
            "overflow": null,
            "overflow_x": null,
            "overflow_y": null,
            "padding": null,
            "right": null,
            "top": null,
            "visibility": null,
            "width": null
          }
        },
        "579255eb6306496fa39e1847697a2c59": {
          "model_module": "@jupyter-widgets/controls",
          "model_name": "ProgressStyleModel",
          "model_module_version": "1.5.0",
          "state": {
            "_model_module": "@jupyter-widgets/controls",
            "_model_module_version": "1.5.0",
            "_model_name": "ProgressStyleModel",
            "_view_count": null,
            "_view_module": "@jupyter-widgets/base",
            "_view_module_version": "1.2.0",
            "_view_name": "StyleView",
            "bar_color": null,
            "description_width": ""
          }
        },
        "fbda0f17814b496cb9b2fbfcf837dfed": {
          "model_module": "@jupyter-widgets/base",
          "model_name": "LayoutModel",
          "model_module_version": "1.2.0",
          "state": {
            "_model_module": "@jupyter-widgets/base",
            "_model_module_version": "1.2.0",
            "_model_name": "LayoutModel",
            "_view_count": null,
            "_view_module": "@jupyter-widgets/base",
            "_view_module_version": "1.2.0",
            "_view_name": "LayoutView",
            "align_content": null,
            "align_items": null,
            "align_self": null,
            "border": null,
            "bottom": null,
            "display": null,
            "flex": null,
            "flex_flow": null,
            "grid_area": null,
            "grid_auto_columns": null,
            "grid_auto_flow": null,
            "grid_auto_rows": null,
            "grid_column": null,
            "grid_gap": null,
            "grid_row": null,
            "grid_template_areas": null,
            "grid_template_columns": null,
            "grid_template_rows": null,
            "height": null,
            "justify_content": null,
            "justify_items": null,
            "left": null,
            "margin": null,
            "max_height": null,
            "max_width": null,
            "min_height": null,
            "min_width": null,
            "object_fit": null,
            "object_position": null,
            "order": null,
            "overflow": null,
            "overflow_x": null,
            "overflow_y": null,
            "padding": null,
            "right": null,
            "top": null,
            "visibility": null,
            "width": null
          }
        },
        "fab8d558832443d493ea6b0d30a03725": {
          "model_module": "@jupyter-widgets/controls",
          "model_name": "DescriptionStyleModel",
          "model_module_version": "1.5.0",
          "state": {
            "_model_module": "@jupyter-widgets/controls",
            "_model_module_version": "1.5.0",
            "_model_name": "DescriptionStyleModel",
            "_view_count": null,
            "_view_module": "@jupyter-widgets/base",
            "_view_module_version": "1.2.0",
            "_view_name": "StyleView",
            "description_width": ""
          }
        }
      }
    }
  },
  "nbformat": 4,
  "nbformat_minor": 0
}