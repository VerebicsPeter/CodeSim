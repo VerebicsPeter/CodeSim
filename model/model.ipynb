{
 "cells": [
  {
   "cell_type": "markdown",
   "metadata": {},
   "source": [
    "# Code Similarity with Contrastive Learning"
   ]
  },
  {
   "cell_type": "markdown",
   "metadata": {},
   "source": [
    "## Dependencies"
   ]
  },
  {
   "cell_type": "code",
   "execution_count": 2,
   "metadata": {},
   "outputs": [],
   "source": [
    "import matplotlib.pyplot as plt\n",
    "import numpy as np\n",
    "import pandas as pd\n",
    "# PyTorch\n",
    "import torch\n",
    "import torch.nn as nn\n",
    "import torch.nn.functional as F\n",
    "from torch.utils.data import DataLoader, Dataset, random_split\n",
    "from torch.utils.tensorboard import SummaryWriter\n",
    "# Transformers (for CodeBERT)\n",
    "from transformers import AutoTokenizer, AutoModel"
   ]
  },
  {
   "cell_type": "code",
   "execution_count": 3,
   "metadata": {},
   "outputs": [
    {
     "name": "stdout",
     "output_type": "stream",
     "text": [
      "NVIDIA GeForce GTX 1070\n",
      "Device: cuda\n"
     ]
    }
   ],
   "source": [
    "print(torch.cuda.get_device_name(torch.cuda.current_device()))\n",
    "device = torch.device(\"cuda\" if torch.cuda.is_available() else \"cpu\")\n",
    "print('Device:', device)"
   ]
  },
  {
   "cell_type": "markdown",
   "metadata": {},
   "source": [
    "## Classic Contrastive Loss Function"
   ]
  },
  {
   "cell_type": "code",
   "execution_count": 4,
   "metadata": {},
   "outputs": [],
   "source": [
    "def contrastive_loss(x1, x2, label: float, margin: float):\n",
    "    \"\"\"\n",
    "    The label indicates whether the pair is negative.\n",
    "        - 1.0 means positive\n",
    "        - 0.0 means negative\n",
    "    \n",
    "    The loss is is calculated like this:\n",
    "        `dist ** 2` if the label is positive `min(margin - dist)` otherwise\n",
    "    \"\"\"\n",
    "    with torch.device(device):\n",
    "        dist = F.pairwise_distance(x1, x2)\n",
    "        loss = label * torch.pow(dist, 2) + (1 - label) * torch.pow(torch.clamp(margin - dist, min=0.0), 2)\n",
    "        return loss.mean()"
   ]
  },
  {
   "cell_type": "markdown",
   "metadata": {},
   "source": [
    "## Model"
   ]
  },
  {
   "cell_type": "code",
   "execution_count": 5,
   "metadata": {},
   "outputs": [],
   "source": [
    "# Model\n",
    "\n",
    "class CodeSimilarityModel(nn.Module):\n",
    "    def __init__(self, pretrained_model=\"microsoft/codebert-base\", hidden_size=768):\n",
    "        # NOTE: The base value for hidden_size is the size of size of the mean pooled output of the transformer.\n",
    "        super().__init__()\n",
    "        self.tokenizer = AutoTokenizer.from_pretrained(pretrained_model)\n",
    "        self.transformer = AutoModel.from_pretrained(pretrained_model)\n",
    "        self.transformer.to(device)\n",
    "        \n",
    "        # Additional projection layers for fine-tuning the embeddings\n",
    "        self.proj1   = nn.Linear(hidden_size, 128)\n",
    "        self.relu    = nn.ReLU()\n",
    "        self.dropout = nn.Dropout(0.2)\n",
    "        self.proj2   = nn.Linear(128, 32)\n",
    "    \n",
    "    def _tokenize(self, code: str):\n",
    "        return self.tokenizer(code, return_tensors='pt', truncation=True, padding='max_length', max_length=256)\n",
    "    \n",
    "    def forward(self, code1: str, code2: str):\n",
    "        # TODO: Only passing one tensor through the network MAY lead to better training time ...\n",
    "        \n",
    "        with torch.device(device):\n",
    "            # Tokenize both code snippets\n",
    "            inputs1 = self._tokenize(code1).to(device)\n",
    "            inputs2 = self._tokenize(code2).to(device)\n",
    "            \n",
    "            # Get the transformer outputs for both inputs\n",
    "            transformer_outputs1 = self.transformer(**inputs1)\n",
    "            transformer_outputs2 = self.transformer(**inputs2)\n",
    "            \n",
    "            # Pool the transformer outputs (mean pooling)\n",
    "            pooled_output1 = transformer_outputs1.last_hidden_state.mean(dim=1)\n",
    "            pooled_output2 = transformer_outputs2.last_hidden_state.mean(dim=1)\n",
    "            \n",
    "            # Pass through the additional layers for inputs1\n",
    "            x1 = self.proj1(pooled_output1)\n",
    "            x1 = self.relu(x1)\n",
    "            x1 = self.dropout(x1)\n",
    "            x1 = self.proj2(x1)\n",
    "            \n",
    "            # Pass through the additional layers for inputs2\n",
    "            x2 = self.proj1(pooled_output2)\n",
    "            x2 = self.relu(x2)\n",
    "            x2 = self.dropout(x2)\n",
    "            x2 = self.proj2(x2)\n",
    "            \n",
    "            return x1, x2"
   ]
  },
  {
   "cell_type": "code",
   "execution_count": 6,
   "metadata": {},
   "outputs": [],
   "source": [
    "# Training dataset\n",
    "\n",
    "class CodePairDataset(Dataset):\n",
    "    def __init__(self, code_pairs, labels):\n",
    "        self.code_pairs = code_pairs\n",
    "        self.labels     = labels\n",
    "\n",
    "    def __getitem__(self, idx):\n",
    "        code1, code2 = self.code_pairs[idx]\n",
    "        label        = self.labels[idx]\n",
    "        return code1, code2, torch.tensor(label, dtype=torch.float).to(device)\n",
    "    \n",
    "    def __len__(self):\n",
    "        return len(self.code_pairs)\n",
    "    \n",
    "    @classmethod\n",
    "    def from_csv_data(cls, path: str = \"training.csv\", sample_size=0):\n",
    "        df = pd.read_csv(path)\n",
    "        if sample_size: \n",
    "            df = df.sample(sample_size)\n",
    "        code_pairs, labels = [], []\n",
    "        for _, row in df.iterrows():\n",
    "            x1, x2, y = row['src_x'], row['src_y'], row['label']\n",
    "            code_pairs.append((x1, x2)); labels.append(y)\n",
    "        return cls(code_pairs, labels)"
   ]
  },
  {
   "cell_type": "code",
   "execution_count": 7,
   "metadata": {},
   "outputs": [],
   "source": [
    "# Training\n",
    "\n",
    "def train_epoch(\n",
    "    model: CodeSimilarityModel,\n",
    "    margin: float,\n",
    "    loader: DataLoader,\n",
    "    optimizer,\n",
    "    epochs: int                  = 0,  # number of epochs so far\n",
    "    writer: SummaryWriter | None = None  # for logging loss values\n",
    "):\n",
    "    \"\"\"Trains the model for one epoch.\"\"\"\n",
    "    N_BATCHES = len(loader)\n",
    "    sum_loss = 0  # Loss accumulated per EPOCH\n",
    "    cum_loss = 0  # Loss accumulated per last 25 batches\n",
    "    for i, data in enumerate(loader):\n",
    "        optimizer.zero_grad()\n",
    "        code1, code2, labels = data\n",
    "        # Get embeddings for both code snippets\n",
    "        embeddings1, embeddings2 = model(code1, code2)\n",
    "        # Compute the loss\n",
    "        loss = contrastive_loss(embeddings1, embeddings2, labels, margin)\n",
    "        loss.backward()\n",
    "        # Adjust the weights\n",
    "        optimizer.step()\n",
    "        # Increase loss accumulator\n",
    "        cum_loss += loss.item()\n",
    "        # Calculate and log loss\n",
    "        if i % 25 == 24:\n",
    "            last_loss = cum_loss / 25\n",
    "            print('',f'Batch: {i + 1}/{N_BATCHES}, Loss: {last_loss}')\n",
    "            sum_loss += cum_loss\n",
    "            cum_loss = 0\n",
    "            if writer is not None:  # Log the average loss over the last 25 batches\n",
    "                writer.add_scalar(\"loss/train\", last_loss, epochs * N_BATCHES + i + 1)\n",
    "    # Return the average loss in the epoch\n",
    "    avg_loss = sum_loss / N_BATCHES\n",
    "    return avg_loss\n",
    "\n",
    "\n",
    "def vdate_epoch(\n",
    "    model: CodeSimilarityModel,\n",
    "    margin: float,\n",
    "    loader: DataLoader,\n",
    "):\n",
    "    \"\"\"Validates the model for one epoch.\"\"\"\n",
    "    with torch.no_grad():\n",
    "        sum_loss = 0\n",
    "        for code1, code2, labels in loader:\n",
    "            embeddings1, embeddings2 = model(code1, code2)\n",
    "            loss = contrastive_loss(embeddings1, embeddings2, labels, margin)\n",
    "            sum_loss += loss.item()\n",
    "        avg_loss = sum_loss / len(loader)\n",
    "        return avg_loss \n",
    "\n",
    "\n",
    "def train(\n",
    "    model: CodeSimilarityModel, \n",
    "    margin: float,\n",
    "    dataloaders,\n",
    "    optimizer,\n",
    "    epochs: int = 5,\n",
    "):\n",
    "    tLosses, vLosses = [], []\n",
    "    writer = SummaryWriter()\n",
    "    train_loader, valid_loader = dataloaders\n",
    "    model.train()\n",
    "    for ind_epoch in range(epochs):\n",
    "        print(f'EPOCH {ind_epoch + 1}/{epochs}')\n",
    "        # Train then validate\n",
    "        avg_tLoss = train_epoch(model, margin, train_loader, optimizer, ind_epoch, writer)\n",
    "        avg_vLoss = vdate_epoch(model, margin, valid_loader)\n",
    "        # Log the losses\n",
    "        print(f\"EPOCH {ind_epoch + 1}/{epochs}, AVG loss: {avg_tLoss}, AVG validation loss: {avg_vLoss}\")\n",
    "        tLosses.append(avg_tLoss)\n",
    "        vLosses.append(avg_vLoss)\n",
    "    writer.close()\n",
    "    return tLosses, vLosses"
   ]
  },
  {
   "cell_type": "code",
   "execution_count": 8,
   "metadata": {},
   "outputs": [],
   "source": [
    "# Evaluation\n",
    "# TODO"
   ]
  },
  {
   "cell_type": "code",
   "execution_count": 9,
   "metadata": {},
   "outputs": [
    {
     "name": "stdout",
     "output_type": "stream",
     "text": [
      "EPOCH 1/5\n",
      " Batch: 25/100, Loss: 2.0422044563293458\n",
      " Batch: 50/100, Loss: 1.614629225730896\n",
      " Batch: 75/100, Loss: 1.5459920930862427\n",
      " Batch: 100/100, Loss: 1.6013227415084839\n",
      "EPOCH 1/5, AVG loss: 1.701037129163742, AVG validation loss: 1.633991928100586\n",
      "EPOCH 2/5\n",
      " Batch: 25/100, Loss: 1.543431749343872\n",
      " Batch: 50/100, Loss: 1.6273819732666015\n",
      " Batch: 75/100, Loss: 1.585535340309143\n",
      " Batch: 100/100, Loss: 1.6050313091278077\n",
      "EPOCH 2/5, AVG loss: 1.5903450930118561, AVG validation loss: 1.5805322015285492\n",
      "EPOCH 3/5\n",
      " Batch: 25/100, Loss: 1.5223139476776124\n",
      " Batch: 50/100, Loss: 1.5533303546905517\n",
      " Batch: 75/100, Loss: 1.547970700263977\n",
      " Batch: 100/100, Loss: 1.6610075521469116\n",
      "EPOCH 3/5, AVG loss: 1.5711556386947632, AVG validation loss: 1.597751944065094\n",
      "EPOCH 4/5\n",
      " Batch: 25/100, Loss: 1.515082941055298\n",
      " Batch: 50/100, Loss: 1.542814769744873\n",
      " Batch: 75/100, Loss: 1.4693666887283325\n",
      " Batch: 100/100, Loss: 1.4614970684051514\n",
      "EPOCH 4/5, AVG loss: 1.4971903669834137, AVG validation loss: 1.5870987021923064\n",
      "EPOCH 5/5\n",
      " Batch: 25/100, Loss: 1.4632059955596923\n",
      " Batch: 50/100, Loss: 1.387458004951477\n",
      " Batch: 75/100, Loss: 1.5105164241790772\n",
      " Batch: 100/100, Loss: 1.5093950843811035\n",
      "EPOCH 5/5, AVG loss: 1.4676438772678375, AVG validation loss: 1.621670242547989\n"
     ]
    }
   ],
   "source": [
    "# Define model, tokenizer, and optimizer\n",
    "model = CodeSimilarityModel().to(device)\n",
    "optimizer = torch.optim.Adam(model.parameters(), lr=1e-5)\n",
    "\n",
    "dataset = CodePairDataset.from_csv_data(sample_size=2000)\n",
    "train_data, valid_data, eval_data = random_split(dataset, [1200, 500, 300])\n",
    "train_loader = DataLoader(train_data, batch_size=12, shuffle=True)\n",
    "valid_loader = DataLoader(valid_data, batch_size=10, shuffle=True)\n",
    "\n",
    "# NOTE: a batch size of 50 seems to crash 16 gigs of RAM (when running on CPU)\n",
    "\n",
    "# Train the model\n",
    "epochs = 5; margin = 2.5\n",
    "losses = train(model, margin, (train_loader, valid_loader), optimizer, epochs)\n",
    "\n",
    "eval_loader = DataLoader(eval_data, batch_size=10, shuffle=True)\n",
    "#TODO: eval function"
   ]
  },
  {
   "cell_type": "code",
   "execution_count": 10,
   "metadata": {},
   "outputs": [
    {
     "data": {
      "image/png": "[encoded data removed]",
      "text/plain": [
       "<Figure size 640x480 with 1 Axes>"
      ]
     },
     "metadata": {},
     "output_type": "display_data"
    }
   ],
   "source": [
    "# TODO: FIX OVERFITTING!\n",
    "\n",
    "plt.plot(losses[0])\n",
    "plt.plot(losses[1])\n",
    "plt.legend(['training loss', 'validation loss'])\n",
    "plt.show()"
   ]
  }
 ],
 "metadata": {
  "kernelspec": {
   "display_name": ".venv",
   "language": "python",
   "name": "python3"
  },
  "language_info": {
   "codemirror_mode": {
    "name": "ipython",
    "version": 3
   },
   "file_extension": ".py",
   "mimetype": "text/x-python",
   "name": "python",
   "nbconvert_exporter": "python",
   "pygments_lexer": "ipython3",
   "version": "3.12.4"
  }
 },
 "nbformat": 4,
 "nbformat_minor": 2
}
