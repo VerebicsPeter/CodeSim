{
 "cells": [
  {
   "cell_type": "code",
   "execution_count": null,
   "metadata": {},
   "outputs": [],
   "source": [
    "import torch\n",
    "import torch.nn.functional as F\n",
    "from transformers import AutoTokenizer, AutoModel"
   ]
  },
  {
   "cell_type": "code",
   "execution_count": null,
   "metadata": {},
   "outputs": [],
   "source": [
    "PRETRAINED_MODEL = \"microsoft/codebert-base\"\n",
    "tokenizer, model = AutoTokenizer.from_pretrained(PRETRAINED_MODEL), AutoModel.from_pretrained(PRETRAINED_MODEL)"
   ]
  },
  {
   "cell_type": "code",
   "execution_count": null,
   "metadata": {},
   "outputs": [],
   "source": [
    "def get_code_embedding(code: str):\n",
    "    inputs = tokenizer(code, return_tensors='pt', truncation=True, padding=True)\n",
    "    with torch.no_grad():\n",
    "        outputs = model(**inputs)\n",
    "        outputs = outputs.last_hidden_state.mean(dim=1)  # [1, 9, 768] mean pooled -> [1, 768]\n",
    "        return outputs"
   ]
  },
  {
   "cell_type": "code",
   "execution_count": null,
   "metadata": {},
   "outputs": [],
   "source": [
    "# Example code snippets and pairs\n",
    "\n",
    "code_1 = \"def add(a, b): return a + b\"\n",
    "code_2 = \"def sum(x, y): return x + y\"\n",
    "code_3 = \"print('Hello, World!')\"\n",
    "\n",
    "ppair = code_1, code_2\n",
    "npair = code_1, code_3\n",
    "\n",
    "ppair_emb = tuple(map(get_code_embedding, ppair))\n",
    "npair_emb = tuple(map(get_code_embedding, npair))\n",
    "\n",
    "# Example similarity and distance calculation\n",
    "\n",
    "p_cosine_sim = F.cosine_similarity(*ppair_emb)\n",
    "n_cosine_sim = F.cosine_similarity(*npair_emb)\n",
    "p_pair_dist = F.pairwise_distance(*ppair_emb)\n",
    "n_pair_dist = F.pairwise_distance(*npair_emb)\n",
    "\n",
    "print('Cosine similarity:')\n",
    "print('- positive pair:', p_cosine_sim)\n",
    "print('- negative pair:', n_cosine_sim)\n",
    "\n",
    "print('Pairwise distance:')\n",
    "print('- positive pair:', p_pair_dist)\n",
    "print('- negative pair:', n_pair_dist)"
   ]
  }
 ],
 "metadata": {
  "kernelspec": {
   "display_name": ".venv",
   "language": "python",
   "name": "python3"
  },
  "language_info": {
   "codemirror_mode": {
    "name": "ipython",
    "version": 3
   },
   "file_extension": ".py",
   "mimetype": "text/x-python",
   "name": "python",
   "nbconvert_exporter": "python",
   "pygments_lexer": "ipython3",
   "version": "3.12.4"
  }
 },
 "nbformat": 4,
 "nbformat_minor": 2
}
