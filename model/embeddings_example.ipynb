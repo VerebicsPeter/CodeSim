{
 "cells": [
  {
   "cell_type": "code",
   "execution_count": 1,
   "metadata": {},
   "outputs": [
    {
     "name": "stderr",
     "output_type": "stream",
     "text": [
      "/home/peter/repos/CodeSim/.venv/lib/python3.12/site-packages/tqdm/auto.py:21: TqdmWarning: IProgress not found. Please update jupyter and ipywidgets. See https://ipywidgets.readthedocs.io/en/stable/user_install.html\n",
      "  from .autonotebook import tqdm as notebook_tqdm\n"
     ]
    }
   ],
   "source": [
    "import torch\n",
    "import torch.nn.functional as F\n",
    "from transformers import AutoTokenizer, AutoModel"
   ]
  },
  {
   "cell_type": "code",
   "execution_count": 9,
   "metadata": {},
   "outputs": [],
   "source": [
    "PRETRAINED_MODEL = 'huggingface/CodeBERTa-small-v1'  #\"microsoft/codebert-base\"\n",
    "tokenizer, model = AutoTokenizer.from_pretrained(PRETRAINED_MODEL), AutoModel.from_pretrained(PRETRAINED_MODEL)"
   ]
  },
  {
   "cell_type": "code",
   "execution_count": 10,
   "metadata": {},
   "outputs": [
    {
     "data": {
      "text/plain": [
       "torch.Size([1, 6, 768])"
      ]
     },
     "execution_count": 10,
     "metadata": {},
     "output_type": "execute_result"
    }
   ],
   "source": [
    "inp = tokenizer('Hello, World!', return_tensors='pt', truncation=True, padding=True)\n",
    "model(**inp).last_hidden_state.shape"
   ]
  },
  {
   "cell_type": "code",
   "execution_count": 12,
   "metadata": {},
   "outputs": [],
   "source": [
    "def get_code_embedding(code: str):\n",
    "    inputs = tokenizer(code, return_tensors='pt', truncation=True, padding=True)\n",
    "    with torch.no_grad():\n",
    "        outputs = model(**inputs)\n",
    "        outputs = outputs.last_hidden_state.mean(dim=1)  # [1, 9, 768] mean pooled -> [1, 768]\n",
    "        return outputs"
   ]
  },
  {
   "cell_type": "code",
   "execution_count": 13,
   "metadata": {},
   "outputs": [
    {
     "name": "stdout",
     "output_type": "stream",
     "text": [
      "Cosine similarity:\n",
      "- positive pair: tensor([0.7865])\n",
      "- negative pair: tensor([0.4554])\n",
      "Pairwise distance:\n",
      "- positive pair: tensor([11.9552])\n",
      "- negative pair: tensor([20.5818])\n"
     ]
    }
   ],
   "source": [
    "# Example code snippets and pairs\n",
    "\n",
    "code_1 = \"def add(a, b): return a + b\"\n",
    "code_2 = \"def sum(x, y): return x + y\"\n",
    "code_3 = \"print('Hello, World!')\"\n",
    "\n",
    "ppair = code_1, code_2\n",
    "npair = code_1, code_3\n",
    "\n",
    "ppair_emb = tuple(map(get_code_embedding, ppair))\n",
    "npair_emb = tuple(map(get_code_embedding, npair))\n",
    "\n",
    "# Example similarity and distance calculation\n",
    "\n",
    "p_cosine_sim = F.cosine_similarity(*ppair_emb)\n",
    "n_cosine_sim = F.cosine_similarity(*npair_emb)\n",
    "p_pair_dist = F.pairwise_distance(*ppair_emb)\n",
    "n_pair_dist = F.pairwise_distance(*npair_emb)\n",
    "\n",
    "print('Cosine similarity:')\n",
    "print('- positive pair:', p_cosine_sim)\n",
    "print('- negative pair:', n_cosine_sim)\n",
    "\n",
    "print('Pairwise distance:')\n",
    "print('- positive pair:', p_pair_dist)\n",
    "print('- negative pair:', n_pair_dist)"
   ]
  }
 ],
 "metadata": {
  "kernelspec": {
   "display_name": ".venv",
   "language": "python",
   "name": "python3"
  },
  "language_info": {
   "codemirror_mode": {
    "name": "ipython",
    "version": 3
   },
   "file_extension": ".py",
   "mimetype": "text/x-python",
   "name": "python",
   "nbconvert_exporter": "python",
   "pygments_lexer": "ipython3",
   "version": "3.12.4"
  }
 },
 "nbformat": 4,
 "nbformat_minor": 2
}
