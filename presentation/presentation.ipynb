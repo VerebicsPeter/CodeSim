{
 "cells": [
  {
   "cell_type": "markdown",
   "id": "3c33cefe-e5b4-4a27-a17e-0cbad416971d",
   "metadata": {
    "editable": true,
    "slideshow": {
     "slide_type": "slide"
    },
    "tags": []
   },
   "source": [
    "# Kódpárok ekvivalenciájának osztályozása"
   ]
  },
  {
   "cell_type": "markdown",
   "id": "8e752fe9-f2d0-49a9-8249-419a8b323092",
   "metadata": {
    "editable": true,
    "slideshow": {
     "slide_type": "slide"
    },
    "tags": []
   },
   "source": [
    "## Kódpárok ekvivalenciájának osztályozása"
   ]
  },
  {
   "cell_type": "markdown",
   "id": "5f42b77e-c9d2-41ba-90b8-4f5d42a71d08",
   "metadata": {
    "editable": true,
    "slideshow": {
     "slide_type": "fragment"
    },
    "tags": []
   },
   "source": [
    "- **Feladat**: Funkcionálisan ekvivalens kódpárok felismerése\n",
    "- **Bemenet**: 2 Python kódrészlet\n",
    "- **Kimenet**: Ekvivalencia (1 = ekvivalens, 0 = nem ekvivalens)"
   ]
  },
  {
   "cell_type": "markdown",
   "id": "52f0e015-c2a9-444f-8d82-3579c4d99184",
   "metadata": {
    "editable": true,
    "slideshow": {
     "slide_type": "fragment"
    },
    "tags": []
   },
   "source": [
    "- **Adathalmazok**:\n",
    "    - **CodeNet** adathalmaz (jelenlegi tanító/kiértékelő adathalmaz)\n",
    "    - GitHub repókból gyűjtött Python forrásfájlok (később használható lenne önfelügyelt tanulásra)\n",
    "- **Módszerek**:\n",
    "  - BERT-alapú modell finomhangolása a feladatra\n",
    "  - Kódrészletek beágyazása (pl. BERT-alapú modellel) + reprezentációs tanulás"
   ]
  },
  {
   "cell_type": "markdown",
   "id": "dfadac68-9271-4c30-b842-85cc9e3b446d",
   "metadata": {
    "editable": true,
    "slideshow": {
     "slide_type": "subslide"
    },
    "tags": []
   },
   "source": [
    "## Kódpárok ekvivalenciájának osztályozása\n",
    "\n",
    "<table>\n",
    "  <tr>\n",
    "    <td><img src=\"BERT_finetuning.png\" alt=\"finetuning\" width=\"600\"/></td>\n",
    "    <td><img src=\"BERT_contrastive.png\" alt=\"contrastive\" width=\"500\"/></td>\n",
    "  </tr>\n",
    "</table>\n",
    "\n",
    "- A CodeNet-nél két kódrészletet akkor tekintünk pozitív párnak, ha mindkét kódrészlet megoldja ugyanazt a problémát."
   ]
  },
  {
   "cell_type": "markdown",
   "id": "3dfaf941-312d-4370-8c9b-a428ed993332",
   "metadata": {
    "editable": true,
    "slideshow": {
     "slide_type": "slide"
    },
    "tags": []
   },
   "source": [
    "## Modellek tanítása\n",
    "\n",
    "- Loss értékek a CodeNet-en:\n",
    "\n",
    "<table>\n",
    "  <tr>\n",
    "    <td>Finomhangolt modell (50K kódrészlet)</td>\n",
    "    <td>Kontrasztív modell (30K kódrészlet)</td>\n",
    "  </tr>\n",
    "  <tr>\n",
    "    <td><img src=\"loss1.png\" alt=\"loss1\" width=\"500\"/></td>\n",
    "    <td><img src=\"loss2.png\" alt=\"loss2\" width=\"500\"/></td>\n",
    "  </tr>\n",
    "</table>\n",
    "\n",
    "- Finomhangolt modell eredménye a CodeNet-en:\n",
    "\n",
    "<div style=\"font-size: 200%;\">\n",
    "\n",
    "|           Class           | Precision | Recall | F1-Score | Support |\n",
    "|---------------------------|-----------|--------|----------|---------|\n",
    "| 0                         | 0.72      | 0.69   | 0.71     | 5007    |\n",
    "| 1                         | 0.70      | 0.73   | 0.72     | 4993    |\n",
    "| **Accuracy**              |           |        | 0.71     | 10000   |\n",
    "\n",
    "</div>\n"
   ]
  }
 ],
 "metadata": {
  "kernelspec": {
   "display_name": "Python 3 (ipykernel)",
   "language": "python",
   "name": "python3"
  },
  "language_info": {
   "codemirror_mode": {
    "name": "ipython",
    "version": 3
   },
   "file_extension": ".py",
   "mimetype": "text/x-python",
   "name": "python",
   "nbconvert_exporter": "python",
   "pygments_lexer": "ipython3",
   "version": "3.11.2"
  }
 },
 "nbformat": 4,
 "nbformat_minor": 5
}
